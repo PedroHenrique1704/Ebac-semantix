{
 "cells": [
  {
   "cell_type": "markdown",
   "id": "1620a9e2-3d3e-4487-b027-80363392aad4",
   "metadata": {},
   "source": [
    "## **Análise e Previsão do Mercado Imobiliário de Melbourne**\n",
    "\n",
    "**Autor**: [<span style=\"color: cadetblue;\">Pedro Henrique</span>](https://www.linkedin.com/in/phcf) \n",
    "\n",
    "**Data**: **26/03/2025**  \n",
    "\n",
    "**Dataset**: [Melbourne Housing Market](https://www.kaggle.com/datasets/anthonypino/melbourne-housing-market)  \n",
    "\n",
    "---\n",
    "\n",
    "## 🏙️ Contexto do Projeto\n",
    "Este projeto tem como objetivo analisar e prever tendências no mercado imobiliário de <span style=\"color: darkseagreen;\">**Melbourne, Austrália**</span>. O dataset contém transações históricas com características detalhadas de propriedades residenciais.\n",
    "\n",
    "### 🔍 Sobre os Dados\n",
    "- **Fonte**: Dados públicos encontrados no [<span style=\"color: cadetblue;\">**Kaggle**</span>](https://www.kaggle.com/)\n",
    "- **Período**: 2016 - 2018\n",
    "- **Variáveis Principais**:\n",
    "  - `Price`: Preço de venda *(target)*\n",
    "  - `Rooms`, `Bathroom`: Características físicas\n",
    "  - `Type`: Tipo de propriedade (Casa, Apartamento, etc.)\n",
    "  - `Distance`: Distância do centro (CBD) - *Central Business District*\n",
    "  - `Landsize`, `BuildingArea`: Áreas do terreno e construção\n",
    "  - `Suburb`, `Regionname`: Localização geográfica\n",
    "\n",
    "---\n",
    "\n",
    "## 🎯 Objetivos\n",
    "1. **Análise Exploratória**:\n",
    "   - Identificar padrões de preços por região/tipo.\n",
    "   - Detectar outliers e relações entre variáveis.\n",
    "\n",
    "2. **Previsão de Preços**:\n",
    "   - Construir um modelo de machine learning para estimar valores de imóveis.\n",
    "   - Alcançar um R² > 0.90 (baseline).\n",
    "\n",
    "3. **Insights Acionáveis**:\n",
    "   - Quais fatores mais impactam o preço?\n",
    "   - Como características geográficas influenciam o mercado?\n",
    "\n",
    "\n",
    "---\n",
    "\n",
    "💡 Nota: Este projeto foi desenvolvido como parte do curso **Profissão: Cientista de dados** pela plataforma da [**Ebac**](https://www.ebaconline.com.br) em parceria com a empresa [**Semantix**](https://www.semantix.ai/)\n",
    "\n",
    "Contato: pedrohcf.1704@gmail.com\n"
   ]
  },
  {
   "cell_type": "markdown",
   "id": "893e3918-fd2e-43b8-9a56-cc7a7a92a529",
   "metadata": {},
   "source": [
    "## Explicação das Variaveis"
   ]
  },
  {
   "cell_type": "markdown",
   "id": "823a7912-ffd6-4489-884e-3ca62154eb6d",
   "metadata": {},
   "source": [
    "| **Coluna**           | **Descrição**                                                                 |     | **Coluna**           | **Descrição**                                                                 |\n",
    "|------------------|---------------------------------------------------------------------------|-----|------------------|---------------------------------------------------------------------------|\n",
    "| Suburb           | Subúrbio                                                                 |     | <span style=\"color: darkseagreen;\">Method</span>          | <span style=\"color: darkseagreen;\">Método de Venda</span>:                                                         |\n",
    "| Address          | Endereço                                                                 |     |                  | S - propriedade vendida;                                                 |\n",
    "| Rooms            | Número de quartos                                                        |     |                  | SP - propriedade vendida anteriormente;                                  |\n",
    "| Price            | Preço em dólares australianos                                            |     |                  | PI - propriedade não vendida no leilão;                                    |\n",
    "| <span style=\"color: cadetblue;\">Type</span>            | <span style=\"color: cadetblue;\">tipo de propriedade:</span>                                                     |     |                  | PN - vendida anteriormente, preço não divulgado;                         |\n",
    "|                  | br - quarto(s);                                                          |     |                  | SN - vendida, preço não divulgado;                                              |\n",
    "|                  | h - casa, chalé, vila, semi, terraço;                                   |     |                  | NB - sem lance;                                                                   |\n",
    "|                  | u - unidade, duplex;                                                    |     |                  | VB - lance do vendedor;                                                    |\n",
    "|                  | t - Casa Germinada;                                                          |     |                  | W - retirada antes do leilão;                                                    |\n",
    "|                  | dev site - terreno para desenvolvimento;                                 |     |                  | SA - vendida após o leilão;                                              |\n",
    "|                  | o res - outro tipo residencial.                                          |     |                  | SS - vendida após o leilão, preço não divulgado;                         |\n",
    "| SellerG          | Agente imobiliário                                                       |     |                  | N/A - preço ou lance mais alto não disponível.                           |\n",
    "\n",
    "\n",
    "| **Coluna**           | **Descrição**                                                                 |     | **Coluna**           | **Descrição**                                                                 |\n",
    "|------------------|---------------------------------------------------------------------------|-----|------------------|---------------------------------------------------------------------------|\n",
    "| Date             | Data da venda                                                           |     | Bathroom         | Número de banheiros                                                      |\n",
    "| Distance         | Distância do centro da cidade em quilômetros                             |     | Car              | Número de vagas de garagem                                               |\n",
    "| Regionname       | Região geral (Oeste, Noroeste, Norte, Nordeste, etc.)                   |     | Landsize         | Tamanho do terreno em metros                                            |\n",
    "| Propertycount    | Número de propriedades existentes no subúrbio                            |     | BuildingArea     | Área construída em metros                                                |\n",
    "| Bedroom2         | Número de quartos (de outra fonte)                                       |     | YearBuilt        | Ano de construção da casa                                                |\n",
    "| CouncilArea      | Conselho governante da área                                              |     | Lattitude        | Latitude (autoexplicativo)                                               |\n",
    "|       |                                              |     |               Longitude    |                                                                          Longitude  |"
   ]
  },
  {
   "cell_type": "markdown",
   "id": "10776c86-0b5a-4295-bed1-3c1d76f9d8c3",
   "metadata": {},
   "source": [
    "# Pacotes e Informações do Dataset"
   ]
  },
  {
   "cell_type": "code",
   "execution_count": 1,
   "id": "cf5033a8-368e-4b87-a04c-134423248827",
   "metadata": {},
   "outputs": [],
   "source": [
    "import pandas            as pd\n",
    "import seaborn           as sns\n",
    "import numpy             as np\n",
    "import matplotlib.pyplot as plt\n",
    "\n",
    "from sklearn.linear_model    import LinearRegression\n",
    "from sklearn.ensemble        import RandomForestRegressor\n",
    "from sklearn.model_selection import GridSearchCV, train_test_split\n",
    "from sklearn.metrics         import mean_absolute_error, r2_score"
   ]
  },
  {
   "cell_type": "code",
   "execution_count": 2,
   "id": "805736ff-82fb-4794-a640-16221847c4b6",
   "metadata": {
    "scrolled": true
   },
   "outputs": [
    {
     "data": {
      "text/html": [
       "<div>\n",
       "<style scoped>\n",
       "    .dataframe tbody tr th:only-of-type {\n",
       "        vertical-align: middle;\n",
       "    }\n",
       "\n",
       "    .dataframe tbody tr th {\n",
       "        vertical-align: top;\n",
       "    }\n",
       "\n",
       "    .dataframe thead th {\n",
       "        text-align: right;\n",
       "    }\n",
       "</style>\n",
       "<table border=\"1\" class=\"dataframe\">\n",
       "  <thead>\n",
       "    <tr style=\"text-align: right;\">\n",
       "      <th></th>\n",
       "      <th>Suburb</th>\n",
       "      <th>Address</th>\n",
       "      <th>Rooms</th>\n",
       "      <th>Type</th>\n",
       "      <th>Price</th>\n",
       "      <th>Method</th>\n",
       "      <th>SellerG</th>\n",
       "      <th>Date</th>\n",
       "      <th>Distance</th>\n",
       "      <th>Postcode</th>\n",
       "      <th>...</th>\n",
       "      <th>Bathroom</th>\n",
       "      <th>Car</th>\n",
       "      <th>Landsize</th>\n",
       "      <th>BuildingArea</th>\n",
       "      <th>YearBuilt</th>\n",
       "      <th>CouncilArea</th>\n",
       "      <th>Lattitude</th>\n",
       "      <th>Longtitude</th>\n",
       "      <th>Regionname</th>\n",
       "      <th>Propertycount</th>\n",
       "    </tr>\n",
       "  </thead>\n",
       "  <tbody>\n",
       "    <tr>\n",
       "      <th>0</th>\n",
       "      <td>Abbotsford</td>\n",
       "      <td>68 Studley St</td>\n",
       "      <td>2</td>\n",
       "      <td>h</td>\n",
       "      <td>NaN</td>\n",
       "      <td>SS</td>\n",
       "      <td>Jellis</td>\n",
       "      <td>3/09/2016</td>\n",
       "      <td>2.5</td>\n",
       "      <td>3067.0</td>\n",
       "      <td>...</td>\n",
       "      <td>1.0</td>\n",
       "      <td>1.0</td>\n",
       "      <td>126.0</td>\n",
       "      <td>NaN</td>\n",
       "      <td>NaN</td>\n",
       "      <td>Yarra City Council</td>\n",
       "      <td>-37.8014</td>\n",
       "      <td>144.9958</td>\n",
       "      <td>Northern Metropolitan</td>\n",
       "      <td>4019.0</td>\n",
       "    </tr>\n",
       "    <tr>\n",
       "      <th>1</th>\n",
       "      <td>Abbotsford</td>\n",
       "      <td>85 Turner St</td>\n",
       "      <td>2</td>\n",
       "      <td>h</td>\n",
       "      <td>1480000.0</td>\n",
       "      <td>S</td>\n",
       "      <td>Biggin</td>\n",
       "      <td>3/12/2016</td>\n",
       "      <td>2.5</td>\n",
       "      <td>3067.0</td>\n",
       "      <td>...</td>\n",
       "      <td>1.0</td>\n",
       "      <td>1.0</td>\n",
       "      <td>202.0</td>\n",
       "      <td>NaN</td>\n",
       "      <td>NaN</td>\n",
       "      <td>Yarra City Council</td>\n",
       "      <td>-37.7996</td>\n",
       "      <td>144.9984</td>\n",
       "      <td>Northern Metropolitan</td>\n",
       "      <td>4019.0</td>\n",
       "    </tr>\n",
       "    <tr>\n",
       "      <th>2</th>\n",
       "      <td>Abbotsford</td>\n",
       "      <td>25 Bloomburg St</td>\n",
       "      <td>2</td>\n",
       "      <td>h</td>\n",
       "      <td>1035000.0</td>\n",
       "      <td>S</td>\n",
       "      <td>Biggin</td>\n",
       "      <td>4/02/2016</td>\n",
       "      <td>2.5</td>\n",
       "      <td>3067.0</td>\n",
       "      <td>...</td>\n",
       "      <td>1.0</td>\n",
       "      <td>0.0</td>\n",
       "      <td>156.0</td>\n",
       "      <td>79.0</td>\n",
       "      <td>1900.0</td>\n",
       "      <td>Yarra City Council</td>\n",
       "      <td>-37.8079</td>\n",
       "      <td>144.9934</td>\n",
       "      <td>Northern Metropolitan</td>\n",
       "      <td>4019.0</td>\n",
       "    </tr>\n",
       "    <tr>\n",
       "      <th>3</th>\n",
       "      <td>Abbotsford</td>\n",
       "      <td>18/659 Victoria St</td>\n",
       "      <td>3</td>\n",
       "      <td>u</td>\n",
       "      <td>NaN</td>\n",
       "      <td>VB</td>\n",
       "      <td>Rounds</td>\n",
       "      <td>4/02/2016</td>\n",
       "      <td>2.5</td>\n",
       "      <td>3067.0</td>\n",
       "      <td>...</td>\n",
       "      <td>2.0</td>\n",
       "      <td>1.0</td>\n",
       "      <td>0.0</td>\n",
       "      <td>NaN</td>\n",
       "      <td>NaN</td>\n",
       "      <td>Yarra City Council</td>\n",
       "      <td>-37.8114</td>\n",
       "      <td>145.0116</td>\n",
       "      <td>Northern Metropolitan</td>\n",
       "      <td>4019.0</td>\n",
       "    </tr>\n",
       "    <tr>\n",
       "      <th>4</th>\n",
       "      <td>Abbotsford</td>\n",
       "      <td>5 Charles St</td>\n",
       "      <td>3</td>\n",
       "      <td>h</td>\n",
       "      <td>1465000.0</td>\n",
       "      <td>SP</td>\n",
       "      <td>Biggin</td>\n",
       "      <td>4/03/2017</td>\n",
       "      <td>2.5</td>\n",
       "      <td>3067.0</td>\n",
       "      <td>...</td>\n",
       "      <td>2.0</td>\n",
       "      <td>0.0</td>\n",
       "      <td>134.0</td>\n",
       "      <td>150.0</td>\n",
       "      <td>1900.0</td>\n",
       "      <td>Yarra City Council</td>\n",
       "      <td>-37.8093</td>\n",
       "      <td>144.9944</td>\n",
       "      <td>Northern Metropolitan</td>\n",
       "      <td>4019.0</td>\n",
       "    </tr>\n",
       "  </tbody>\n",
       "</table>\n",
       "<p>5 rows × 21 columns</p>\n",
       "</div>"
      ],
      "text/plain": [
       "       Suburb             Address  Rooms Type      Price Method SellerG  \\\n",
       "0  Abbotsford       68 Studley St      2    h        NaN     SS  Jellis   \n",
       "1  Abbotsford        85 Turner St      2    h  1480000.0      S  Biggin   \n",
       "2  Abbotsford     25 Bloomburg St      2    h  1035000.0      S  Biggin   \n",
       "3  Abbotsford  18/659 Victoria St      3    u        NaN     VB  Rounds   \n",
       "4  Abbotsford        5 Charles St      3    h  1465000.0     SP  Biggin   \n",
       "\n",
       "        Date  Distance  Postcode  ...  Bathroom  Car  Landsize  BuildingArea  \\\n",
       "0  3/09/2016       2.5    3067.0  ...       1.0  1.0     126.0           NaN   \n",
       "1  3/12/2016       2.5    3067.0  ...       1.0  1.0     202.0           NaN   \n",
       "2  4/02/2016       2.5    3067.0  ...       1.0  0.0     156.0          79.0   \n",
       "3  4/02/2016       2.5    3067.0  ...       2.0  1.0       0.0           NaN   \n",
       "4  4/03/2017       2.5    3067.0  ...       2.0  0.0     134.0         150.0   \n",
       "\n",
       "   YearBuilt         CouncilArea Lattitude  Longtitude             Regionname  \\\n",
       "0        NaN  Yarra City Council  -37.8014    144.9958  Northern Metropolitan   \n",
       "1        NaN  Yarra City Council  -37.7996    144.9984  Northern Metropolitan   \n",
       "2     1900.0  Yarra City Council  -37.8079    144.9934  Northern Metropolitan   \n",
       "3        NaN  Yarra City Council  -37.8114    145.0116  Northern Metropolitan   \n",
       "4     1900.0  Yarra City Council  -37.8093    144.9944  Northern Metropolitan   \n",
       "\n",
       "  Propertycount  \n",
       "0        4019.0  \n",
       "1        4019.0  \n",
       "2        4019.0  \n",
       "3        4019.0  \n",
       "4        4019.0  \n",
       "\n",
       "[5 rows x 21 columns]"
      ]
     },
     "execution_count": 2,
     "metadata": {},
     "output_type": "execute_result"
    }
   ],
   "source": [
    "df = pd.read_csv('./data/melbourne_housing_full.csv')\n",
    "df.head()"
   ]
  },
  {
   "cell_type": "code",
   "execution_count": 3,
   "id": "fa9427d4-4139-4397-aa40-51209901b337",
   "metadata": {},
   "outputs": [
    {
     "name": "stdout",
     "output_type": "stream",
     "text": [
      "Número de linhas:  34857 \n",
      "Número de colunas:  21\n"
     ]
    }
   ],
   "source": [
    "print(\"Número de linhas: \",df.shape[0],\"\\nNúmero de colunas: \",df.shape[1])\n"
   ]
  },
  {
   "cell_type": "markdown",
   "id": "0ee6d57d-941b-41e4-8667-2ac61aaa6b2b",
   "metadata": {},
   "source": [
    "# Limpagem de dados"
   ]
  },
  {
   "cell_type": "markdown",
   "id": "ddfc4c4a-4c63-4b68-be7f-d374e435aad1",
   "metadata": {
    "jp-MarkdownHeadingCollapsed": true
   },
   "source": [
    "## Heatmap + metadados"
   ]
  },
  {
   "cell_type": "code",
   "execution_count": 4,
   "id": "291090bb-880e-4ef2-be05-d734fb9377a1",
   "metadata": {},
   "outputs": [
    {
     "data": {
      "image/png": "[encoded data removed]",
      "text/plain": [
       "<Figure size 1400x1200 with 2 Axes>"
      ]
     },
     "metadata": {},
     "output_type": "display_data"
    },
    {
     "data": {
      "text/html": [
       "<div>\n",
       "<style scoped>\n",
       "    .dataframe tbody tr th:only-of-type {\n",
       "        vertical-align: middle;\n",
       "    }\n",
       "\n",
       "    .dataframe tbody tr th {\n",
       "        vertical-align: top;\n",
       "    }\n",
       "\n",
       "    .dataframe thead th {\n",
       "        text-align: right;\n",
       "    }\n",
       "</style>\n",
       "<table border=\"1\" class=\"dataframe\">\n",
       "  <thead>\n",
       "    <tr style=\"text-align: right;\">\n",
       "      <th></th>\n",
       "      <th>dtype</th>\n",
       "      <th>missing</th>\n",
       "      <th>valores_unicos</th>\n",
       "      <th>tipo</th>\n",
       "    </tr>\n",
       "  </thead>\n",
       "  <tbody>\n",
       "    <tr>\n",
       "      <th>Suburb</th>\n",
       "      <td>object</td>\n",
       "      <td>0</td>\n",
       "      <td>351</td>\n",
       "      <td>object</td>\n",
       "    </tr>\n",
       "    <tr>\n",
       "      <th>Address</th>\n",
       "      <td>object</td>\n",
       "      <td>0</td>\n",
       "      <td>34009</td>\n",
       "      <td>object</td>\n",
       "    </tr>\n",
       "    <tr>\n",
       "      <th>Rooms</th>\n",
       "      <td>int64</td>\n",
       "      <td>0</td>\n",
       "      <td>12</td>\n",
       "      <td>int64</td>\n",
       "    </tr>\n",
       "    <tr>\n",
       "      <th>Type</th>\n",
       "      <td>object</td>\n",
       "      <td>0</td>\n",
       "      <td>3</td>\n",
       "      <td>object</td>\n",
       "    </tr>\n",
       "    <tr>\n",
       "      <th>Price</th>\n",
       "      <td>float64</td>\n",
       "      <td>7610</td>\n",
       "      <td>2871</td>\n",
       "      <td>float64</td>\n",
       "    </tr>\n",
       "    <tr>\n",
       "      <th>Method</th>\n",
       "      <td>object</td>\n",
       "      <td>0</td>\n",
       "      <td>9</td>\n",
       "      <td>object</td>\n",
       "    </tr>\n",
       "    <tr>\n",
       "      <th>SellerG</th>\n",
       "      <td>object</td>\n",
       "      <td>0</td>\n",
       "      <td>388</td>\n",
       "      <td>object</td>\n",
       "    </tr>\n",
       "    <tr>\n",
       "      <th>Date</th>\n",
       "      <td>object</td>\n",
       "      <td>0</td>\n",
       "      <td>78</td>\n",
       "      <td>object</td>\n",
       "    </tr>\n",
       "    <tr>\n",
       "      <th>Distance</th>\n",
       "      <td>float64</td>\n",
       "      <td>1</td>\n",
       "      <td>215</td>\n",
       "      <td>float64</td>\n",
       "    </tr>\n",
       "    <tr>\n",
       "      <th>Postcode</th>\n",
       "      <td>float64</td>\n",
       "      <td>1</td>\n",
       "      <td>211</td>\n",
       "      <td>float64</td>\n",
       "    </tr>\n",
       "    <tr>\n",
       "      <th>Bedroom2</th>\n",
       "      <td>float64</td>\n",
       "      <td>8217</td>\n",
       "      <td>15</td>\n",
       "      <td>float64</td>\n",
       "    </tr>\n",
       "    <tr>\n",
       "      <th>Bathroom</th>\n",
       "      <td>float64</td>\n",
       "      <td>8226</td>\n",
       "      <td>11</td>\n",
       "      <td>float64</td>\n",
       "    </tr>\n",
       "    <tr>\n",
       "      <th>Car</th>\n",
       "      <td>float64</td>\n",
       "      <td>8728</td>\n",
       "      <td>15</td>\n",
       "      <td>float64</td>\n",
       "    </tr>\n",
       "    <tr>\n",
       "      <th>Landsize</th>\n",
       "      <td>float64</td>\n",
       "      <td>11810</td>\n",
       "      <td>1684</td>\n",
       "      <td>float64</td>\n",
       "    </tr>\n",
       "    <tr>\n",
       "      <th>BuildingArea</th>\n",
       "      <td>float64</td>\n",
       "      <td>21115</td>\n",
       "      <td>740</td>\n",
       "      <td>float64</td>\n",
       "    </tr>\n",
       "    <tr>\n",
       "      <th>YearBuilt</th>\n",
       "      <td>float64</td>\n",
       "      <td>19306</td>\n",
       "      <td>160</td>\n",
       "      <td>float64</td>\n",
       "    </tr>\n",
       "    <tr>\n",
       "      <th>CouncilArea</th>\n",
       "      <td>object</td>\n",
       "      <td>3</td>\n",
       "      <td>33</td>\n",
       "      <td>object</td>\n",
       "    </tr>\n",
       "    <tr>\n",
       "      <th>Lattitude</th>\n",
       "      <td>float64</td>\n",
       "      <td>7976</td>\n",
       "      <td>13402</td>\n",
       "      <td>float64</td>\n",
       "    </tr>\n",
       "    <tr>\n",
       "      <th>Longtitude</th>\n",
       "      <td>float64</td>\n",
       "      <td>7976</td>\n",
       "      <td>14524</td>\n",
       "      <td>float64</td>\n",
       "    </tr>\n",
       "    <tr>\n",
       "      <th>Regionname</th>\n",
       "      <td>object</td>\n",
       "      <td>3</td>\n",
       "      <td>8</td>\n",
       "      <td>object</td>\n",
       "    </tr>\n",
       "    <tr>\n",
       "      <th>Propertycount</th>\n",
       "      <td>float64</td>\n",
       "      <td>3</td>\n",
       "      <td>342</td>\n",
       "      <td>float64</td>\n",
       "    </tr>\n",
       "  </tbody>\n",
       "</table>\n",
       "</div>"
      ],
      "text/plain": [
       "                 dtype  missing  valores_unicos     tipo\n",
       "Suburb          object        0             351   object\n",
       "Address         object        0           34009   object\n",
       "Rooms            int64        0              12    int64\n",
       "Type            object        0               3   object\n",
       "Price          float64     7610            2871  float64\n",
       "Method          object        0               9   object\n",
       "SellerG         object        0             388   object\n",
       "Date            object        0              78   object\n",
       "Distance       float64        1             215  float64\n",
       "Postcode       float64        1             211  float64\n",
       "Bedroom2       float64     8217              15  float64\n",
       "Bathroom       float64     8226              11  float64\n",
       "Car            float64     8728              15  float64\n",
       "Landsize       float64    11810            1684  float64\n",
       "BuildingArea   float64    21115             740  float64\n",
       "YearBuilt      float64    19306             160  float64\n",
       "CouncilArea     object        3              33   object\n",
       "Lattitude      float64     7976           13402  float64\n",
       "Longtitude     float64     7976           14524  float64\n",
       "Regionname      object        3               8   object\n",
       "Propertycount  float64        3             342  float64"
      ]
     },
     "execution_count": 4,
     "metadata": {},
     "output_type": "execute_result"
    }
   ],
   "source": [
    "# Calculando a matriz de correlação\n",
    "\n",
    "df_numeric = df[['Rooms', 'Price', 'Distance', 'Postcode', 'Bedroom2', 'Bathroom', 'Car', 'Landsize', 'BuildingArea', 'YearBuilt', 'Lattitude', 'Longtitude', 'Propertycount']]\n",
    "\n",
    "correlation_matrix = df_numeric.corr()\n",
    "\n",
    "\n",
    "plt.figure(figsize=(14, 12))\n",
    "heatmap = sns.heatmap(\n",
    "    correlation_matrix,\n",
    "    cmap='coolwarm',\n",
    "    annot=True,\n",
    "    fmt='.2f',\n",
    "    linewidths=0.5,\n",
    "    square=True,\n",
    "    cbar_kws={\"shrink\": .8},\n",
    "    annot_kws={\"size\": 9, \"color\": 'black'} \n",
    ")\n",
    "\n",
    "\n",
    "# Heatmap\n",
    "\n",
    "plt.xticks(rotation=45, ha='right', fontsize=10)\n",
    "plt.yticks(rotation=0, fontsize=10)\n",
    "plt.title('Matriz de Correlação', fontsize=16)\n",
    "plt.tight_layout()\n",
    "plt.show()\n",
    "\n",
    "\n",
    "\n",
    "# Metadados\n",
    "\n",
    "metadados = pd.DataFrame(df.dtypes, columns=['dtype'])\n",
    "metadados['missing'] = df.isna().sum()\n",
    "metadados['valores_unicos'] = df.nunique() \n",
    "metadados['tipo'] = metadados['dtype'].astype(str) \n",
    "\n",
    "metadados"
   ]
  },
  {
   "cell_type": "markdown",
   "id": "f0995111-4919-4202-b74a-78492566832c",
   "metadata": {
    "jp-MarkdownHeadingCollapsed": true
   },
   "source": [
    "## Descobertas"
   ]
  },
  {
   "cell_type": "markdown",
   "id": "33c111d5-33ec-4a0d-9a95-4529085e8fd3",
   "metadata": {
    "jp-MarkdownHeadingCollapsed": true
   },
   "source": [
    "### **Rooms**, **Bedroom2** e **Bathroom** *(Quartos e Banheiros)*"
   ]
  },
  {
   "cell_type": "markdown",
   "id": "1eb158f3-20ae-44a4-82ab-007acdadfc0d",
   "metadata": {},
   "source": [
    "1. Correlação altíssima entre <span style=\"color: cadetblue;\">Rooms</span> e <span style=\"color: darkseagreen;\">Bedroom2</span> (0.94) mostrando que praticamente são variáveis que andam juntas.\n",
    "   * Sugerindo que uma das variáveis pode ser excluida ou tratada de forma diferente.\n",
    "    * Isso se da pois ambas as variáveis possuem a mesma informação, apenas de fontes diferentes. <br><br>\n",
    "\n",
    "\n",
    "2. <span style=\"color: cadetblue;\">Rooms</span> também tem correlação forte com <span style=\"color:DarkOrange ;\">Bathroom</span> (0.61), indicando que o número de quartos é um bom indicador do número de banheiros."
   ]
  },
  {
   "cell_type": "markdown",
   "id": "25a5004b-cae0-48cd-b88a-c6f4470bb550",
   "metadata": {
    "jp-MarkdownHeadingCollapsed": true
   },
   "source": [
    "### Price *(Preço de venda/compra)*:"
   ]
  },
  {
   "cell_type": "markdown",
   "id": "a1513210-7086-448c-a600-c609c25a87d0",
   "metadata": {},
   "source": [
    "1. <span style=\"color: cadetblue;\">Price</span> tem correlação moderada com <span style=\"color: darkseagreen;\">Rooms</span> (0.46), <span style=\"color: DarkOrange;\">Bedroom2</span> (0.43) e <span style=\"color: rosybrown;\">Bathroom</span> (0.42).\n",
    "      * Isso mostra que propriedades maiores, com mais quartos e banheiros, tendem a ser mais caras, o que é esperado.<br><br>\n",
    "\n",
    "2. Curiosamente, <span style=\"color: cadetblue;\">Price</span> tem correlação negativa com <span style=\"color: mediumorchid;\">YearBuilt</span> (-0.33), o que sugere que imóveis mais antigos tendem a ser mais caros."
   ]
  },
  {
   "cell_type": "markdown",
   "id": "8f0087f5-d05e-4ff4-b8c9-41496e481dff",
   "metadata": {
    "jp-MarkdownHeadingCollapsed": true
   },
   "source": [
    "### Car *(Vagas de carro)*:"
   ]
  },
  {
   "cell_type": "markdown",
   "id": "5a98ff1c-1941-4918-ab47-318c6699c5a2",
   "metadata": {},
   "source": [
    "* <span style=\"color: cadetblue;\">Car</span> tem correlação baixa a moderada com <span style=\"color: darkseagreen;\">Rooms</span> (0.39) e <span style=\"color: DarkOrange;\">Bathroom</span> (0.30)\n",
    "    *  o que faz sentido, casas maiores tendem a ter mais vagas. <br><br>\n",
    "\n",
    "* A correlação com <span style=\"color: rosybrown;\">Building Area</span> (0.10) é bem baixa.\n",
    "    * Indicando que o tamanho da construção tem pouca influência direta nas vagas de garagem."
   ]
  },
  {
   "cell_type": "markdown",
   "id": "46cde3c3-62f5-429b-839c-663ca614b9cf",
   "metadata": {
    "jp-MarkdownHeadingCollapsed": true
   },
   "source": [
    "### Landsize e BuildingArea *(Tamanho do Terreno e Área Construida)*:"
   ]
  },
  {
   "cell_type": "markdown",
   "id": "a8dc70c8-f29f-4c48-b1d4-9b6e6a1b0f9d",
   "metadata": {},
   "source": [
    "* A correlação entre <span style=\"color: cadetblue;\">Landsize</span> e <span style=\"color: darkseagreen;\">BuildingArea</span> é relativamente boa (0.35).\n",
    "    * como esperado: terrenos maiores tendem a ter construções maiores. <br><br>\n",
    "\n",
    "* <span style=\"color: cadetblue;\">Landsize</span> tem baixíssima correlação com <span style=\"color: DarkOrange;\">Price</span> (0.03).\n",
    "    * Demonstrando que mostra que tamanho do terreno isoladamente não impacta tanto o preço, o valor pode estar mais associado à:\n",
    "        1. <span style=\"color: rosybrown;\">Localização</span>,\n",
    "        2. <span style=\"color: darkseagreen;\">Área Construida</span>,\n",
    "        3. <span style=\"color: mediumorchid;\">Número de quartos</span>."
   ]
  },
  {
   "cell_type": "markdown",
   "id": "ddeea899-82e7-4f25-aedd-2421f9fe80ad",
   "metadata": {
    "jp-MarkdownHeadingCollapsed": true
   },
   "source": [
    "### YearBuilt e Distance *(Ano de construção e Distância até o centro da cidade)*:"
   ]
  },
  {
   "cell_type": "markdown",
   "id": "b8159f3e-9fe2-465d-8fc0-6ff8fe3ad940",
   "metadata": {
    "jp-MarkdownHeadingCollapsed": true
   },
   "source": [
    "* <span style=\"color: cadetblue;\">YearBuilt</span> tem correlação moderada com <span style=\"color: darkseagreen;\">Distance</span> (0.32)\n",
    "    * Mostrando que imóveis mais novos tendem a estar localizados em áreas mais afastadas do centro. <br><br>\n",
    "\n",
    "* <span style=\"color: cadetblue;\">YearBuilt</span> Correlação negativa com <span style=\"color: DarkOrange;\">Price</span> (-0.33).\n",
    "    * indica que imóveis mais antigos são mais caros\n",
    "        * pode ser por estarem em áreas mais centrais ou valorizadas."
   ]
  },
  {
   "cell_type": "markdown",
   "id": "076ae3dd-f09f-42ba-ad10-0c0e073f1d3a",
   "metadata": {
    "jp-MarkdownHeadingCollapsed": true
   },
   "source": [
    "### 7. Propertycount (Contagem de propriedades):"
   ]
  },
  {
   "cell_type": "markdown",
   "id": "db94c85e-45ee-4f19-906a-953feaf2f0f8",
   "metadata": {},
   "source": [
    "* Quase não tem relação significativa com nenhuma variável.\n",
    "  * Possivelmente, pode ser descartada ou tratada apenas como contexto."
   ]
  },
  {
   "cell_type": "markdown",
   "id": "a5410d76-82db-4101-a783-0eef203553f8",
   "metadata": {
    "jp-MarkdownHeadingCollapsed": true
   },
   "source": [
    "## Problemas encontrados no dataset"
   ]
  },
  {
   "cell_type": "markdown",
   "id": "2db0aaaf-4f4c-49be-a1f0-a8c83685e54b",
   "metadata": {
    "jp-MarkdownHeadingCollapsed": true
   },
   "source": [
    "### 1: Converter Date para datetime\n",
    "* Criar a coluna <span style=\"color: cadetblue;\">Ano de Venda</span>\n",
    "* Criar a coluna <span style=\"color: cadetblue;\">Mês de Venda</span>\n",
    "      \n",
    "\n",
    "### 2: Verificar os valores ausentes nas variaveis\n",
    "1. *Bedroom2*\n",
    "2. *Bathroom*\n",
    "3. *Car*\n",
    "4. *Landsize*\n",
    "5. *BuildingArea*\n",
    "6. *YearBuilt*\n",
    "7. *CouncilArea*\n",
    "8. *Lattitude*\n",
    "9. *Longitude*\n",
    "10. *Regioname*\n",
    "11. *Propertycount*\n",
    "\n",
    " \n",
    "### 3: Descobrir a Variavel Ausente: <span style=\"color: cadetblue;\">**Price**</span> das casas por meio <span style=\"color: darkseagreen;\">Machine Learning</span>.\n",
    "\n",
    "\n",
    "### 4: Necessidade de criar novas variáveis "
   ]
  },
  {
   "cell_type": "markdown",
   "id": "441fdf20-e8ad-4022-a8b9-4bbd81a62805",
   "metadata": {},
   "source": [
    "## Resolução dos problemas"
   ]
  },
  {
   "cell_type": "markdown",
   "id": "185325de-61f7-4a00-9947-ad9727d97b23",
   "metadata": {
    "jp-MarkdownHeadingCollapsed": true
   },
   "source": [
    "### Ajustes Gerais"
   ]
  },
  {
   "cell_type": "markdown",
   "id": "d3b657ba-fdfe-42d2-9e8c-1babc11f34b6",
   "metadata": {},
   "source": [
    "* Transformar a variável <span style=\"color: cadetblue;\">Type</span> em *dummies* pois possuem um alto valor"
   ]
  },
  {
   "cell_type": "code",
   "execution_count": 5,
   "id": "59a67a6c-5fef-4fda-953d-63e76f533faa",
   "metadata": {},
   "outputs": [],
   "source": [
    "type_mapping = {'h': 0, 'u': 1, 't': 2}\n",
    "df['Type_numeric'] = df['Type'].map(type_mapping)"
   ]
  },
  {
   "cell_type": "markdown",
   "id": "e616d3a1-996b-40af-95a1-52c5d06ea0c6",
   "metadata": {
    "jp-MarkdownHeadingCollapsed": true
   },
   "source": [
    "### CouncilArea, Regionname, Postcode, Propertycount e Distance"
   ]
  },
  {
   "cell_type": "markdown",
   "id": "95366275-7d23-46ab-8d68-380be78d4243",
   "metadata": {},
   "source": [
    "* Ambas possuem apenas 3 valores ausentes possivelmente são da mesma linha.\n",
    "  - caso sejam: excluiremos a linha."
   ]
  },
  {
   "cell_type": "code",
   "execution_count": 6,
   "id": "cec30cf6-e39b-4a3d-9205-2281383e6171",
   "metadata": {
    "scrolled": true
   },
   "outputs": [
    {
     "name": "stdout",
     "output_type": "stream",
     "text": [
      "            Suburb           Address  Rooms Type     Price Method SellerG  \\\n",
      "18523    Footscray  2/16 Stafford St      2    u  710000.0      S     Jas   \n",
      "26888   Camberwell   2/3 Kingsley St      2    h  825000.0     VB  Jellis   \n",
      "29483  Fawkner Lot      1/3 Brian St      3    h  616000.0     SP    Brad   \n",
      "\n",
      "             Date  Distance  Postcode  ...  Car  Landsize  BuildingArea  \\\n",
      "18523  15/07/2017       5.1    3011.0  ...  NaN       NaN           NaN   \n",
      "26888  11/11/2017       7.7    3124.0  ...  NaN       NaN           NaN   \n",
      "29483   6/01/2018       NaN       NaN  ...  NaN       NaN           NaN   \n",
      "\n",
      "       YearBuilt  CouncilArea  Lattitude Longtitude  Regionname  \\\n",
      "18523        NaN          NaN        NaN        NaN         NaN   \n",
      "26888        NaN          NaN        NaN        NaN         NaN   \n",
      "29483        NaN          NaN        NaN        NaN         NaN   \n",
      "\n",
      "       Propertycount Type_numeric  \n",
      "18523            NaN            1  \n",
      "26888            NaN            0  \n",
      "29483            NaN            0  \n",
      "\n",
      "[3 rows x 22 columns]\n"
     ]
    }
   ],
   "source": [
    "# Verificando as linhas com valores ausentes em 'CouncilArea', 'Regionname' e 'Propertycount'\n",
    "missing_rows = df[df[['CouncilArea', 'Regionname', 'Propertycount']].isnull().any(axis=1)]\n",
    "\n",
    "# Exibindo as linhas com valores ausentes nessas 3 colunas\n",
    "print(missing_rows)\n"
   ]
  },
  {
   "cell_type": "markdown",
   "id": "34de26e3-696e-4757-9354-c4be52e8c834",
   "metadata": {},
   "source": [
    "* As suspeitas eram verdadeiras, excluiremos as linhas do *dataset*."
   ]
  },
  {
   "cell_type": "code",
   "execution_count": 7,
   "id": "c9c29add-6552-49eb-9c9b-cb99a6a7aa34",
   "metadata": {},
   "outputs": [],
   "source": [
    "df = df.dropna(subset=['CouncilArea', 'Regionname', 'Propertycount','Postcode','Distance'], how='any')"
   ]
  },
  {
   "cell_type": "markdown",
   "id": "64b55814-184f-449e-98fa-4eedb272f490",
   "metadata": {
    "jp-MarkdownHeadingCollapsed": true
   },
   "source": [
    "### Date"
   ]
  },
  {
   "cell_type": "markdown",
   "id": "288cff2f-5a95-4a65-8c45-32b29d68acc0",
   "metadata": {},
   "source": [
    "* **Conversão** + criação das variáveis referentes ao <span style=\"color: cadetblue;\">mês</span> e <span style=\"color: cadetblue;\">ano</span> da venda."
   ]
  },
  {
   "cell_type": "code",
   "execution_count": 8,
   "id": "807098fe-7fbd-4dab-b3ba-eec00074c70e",
   "metadata": {},
   "outputs": [],
   "source": [
    "# Converter Date para datetime\n",
    "df['Date'] = pd.to_datetime(df['Date'], dayfirst=True)\n",
    "\n",
    "# Criar coluna do ano da venda\n",
    "df['Year_Sold'] = df['Date'].dt.year\n",
    "\n",
    "# Criar coluna do mês da venda\n",
    "df['Month_Sold'] = df['Date'].dt.month"
   ]
  },
  {
   "cell_type": "code",
   "execution_count": 9,
   "id": "a7a72da8-3654-4f5a-84a0-8f3be8590266",
   "metadata": {},
   "outputs": [
    {
     "name": "stdout",
     "output_type": "stream",
     "text": [
      "Year_Sold\n",
      "2016    10292\n",
      "2017    19850\n",
      "2018     4712\n",
      "Name: count, dtype: int64\n",
      "Month_Sold\n",
      "1      820\n",
      "2     2642\n",
      "3     3094\n",
      "4     1520\n",
      "5     3416\n",
      "6     3175\n",
      "7     2958\n",
      "8     2888\n",
      "9     4128\n",
      "10    3900\n",
      "11    4386\n",
      "12    1927\n",
      "Name: count, dtype: int64\n"
     ]
    }
   ],
   "source": [
    "print(df['Year_Sold'].value_counts().sort_index())\n",
    "print(df['Month_Sold'].value_counts().sort_index())"
   ]
  },
  {
   "cell_type": "markdown",
   "id": "f2811cb5-2a69-4710-b26f-3f459e738900",
   "metadata": {
    "jp-MarkdownHeadingCollapsed": true
   },
   "source": [
    "### Bedroom2"
   ]
  },
  {
   "cell_type": "markdown",
   "id": "86bb55e8-be06-4622-9399-13f7880b9df6",
   "metadata": {},
   "source": [
    "*  <span style=\"color: cadetblue;\">Bedroom2</span> e <span style=\"color: darkseagreen;\">Rooms</span> terem a mesma premissa *(número de quartos)* e sendo a unica diferença a fonte de qual foi obtido a informação, iremos dropar a variavel <span style=\"color: cadetblue;\">Bedroom2</span>.\n"
   ]
  },
  {
   "cell_type": "code",
   "execution_count": 10,
   "id": "2450645e-4e6c-4cb4-9a65-0c50069f2bf4",
   "metadata": {},
   "outputs": [],
   "source": [
    "df = df.drop(columns=['Bedroom2'])"
   ]
  },
  {
   "cell_type": "markdown",
   "id": "69a2f302-7b89-4fa0-b4cc-261e35adc6ae",
   "metadata": {
    "jp-MarkdownHeadingCollapsed": true
   },
   "source": [
    "### Bathroom"
   ]
  },
  {
   "cell_type": "markdown",
   "id": "914a2a6e-cabb-474d-a4af-4b9bdc9a383d",
   "metadata": {},
   "source": [
    "* Para as variaveis missing de <span style=\"color: cadetblue;\">**Bathroom**</span> verificaremos a sua correlação com a quantidade de quartos na casa ( <span style=\"color: darkseagreen;\">Rooms</span> )"
   ]
  },
  {
   "cell_type": "code",
   "execution_count": 11,
   "id": "74bfdd87-0012-4140-b494-de3b385c90aa",
   "metadata": {
    "scrolled": true
   },
   "outputs": [
    {
     "data": {
      "text/html": [
       "<div>\n",
       "<style scoped>\n",
       "    .dataframe tbody tr th:only-of-type {\n",
       "        vertical-align: middle;\n",
       "    }\n",
       "\n",
       "    .dataframe tbody tr th {\n",
       "        vertical-align: top;\n",
       "    }\n",
       "\n",
       "    .dataframe thead th {\n",
       "        text-align: right;\n",
       "    }\n",
       "</style>\n",
       "<table border=\"1\" class=\"dataframe\">\n",
       "  <thead>\n",
       "    <tr style=\"text-align: right;\">\n",
       "      <th></th>\n",
       "      <th>Rooms</th>\n",
       "      <th>Bathroom</th>\n",
       "    </tr>\n",
       "  </thead>\n",
       "  <tbody>\n",
       "    <tr>\n",
       "      <th>Rooms</th>\n",
       "      <td>1.000000</td>\n",
       "      <td>0.611826</td>\n",
       "    </tr>\n",
       "    <tr>\n",
       "      <th>Bathroom</th>\n",
       "      <td>0.611826</td>\n",
       "      <td>1.000000</td>\n",
       "    </tr>\n",
       "  </tbody>\n",
       "</table>\n",
       "</div>"
      ],
      "text/plain": [
       "             Rooms  Bathroom\n",
       "Rooms     1.000000  0.611826\n",
       "Bathroom  0.611826  1.000000"
      ]
     },
     "execution_count": 11,
     "metadata": {},
     "output_type": "execute_result"
    }
   ],
   "source": [
    "df[['Rooms', 'Bathroom']].corr() "
   ]
  },
  {
   "cell_type": "markdown",
   "id": "21c836e4-1960-4058-8c33-62f26eae5830",
   "metadata": {},
   "source": [
    "* Agora, faremos uma <span style=\"color: DarkOrange;\">Regressão linear simples</span> para preencher os valores missings de <span style=\"color: cadetblue;\">Bathroom</span> utilizando a variavel <span style=\"color: darkseagreen;\">Rooms</span> e o <span style=\"color: DarkOrange;\">tipo do imóvel</span> como base."
   ]
  },
  {
   "cell_type": "code",
   "execution_count": 12,
   "id": "5073904e-ee6a-464f-a41b-aea5bd13b81c",
   "metadata": {},
   "outputs": [],
   "source": [
    "from sklearn.linear_model import LinearRegression\n",
    "import numpy as np\n",
    "\n",
    "# Dados de treino \n",
    "df_train = df[df['Bathroom'].notna()]\n",
    "X_train = df_train[['Rooms', 'Type_numeric']]  \n",
    "y_train = df_train['Bathroom']\n",
    "\n",
    "# Modelo\n",
    "model = LinearRegression()\n",
    "model.fit(X_train, y_train)\n",
    "\n",
    "# Prever e arredondar\n",
    "df_missing = df[df['Bathroom'].isna()]\n",
    "X_missing = df_missing[['Rooms', 'Type_numeric']]\n",
    "predicted = model.predict(X_missing)\n",
    "df.loc[df['Bathroom'].isna(), 'Bathroom'] = np.round(predicted).astype(int)"
   ]
  },
  {
   "cell_type": "code",
   "execution_count": 13,
   "id": "4d9640d1-ffdc-48fb-83fe-2295772a7129",
   "metadata": {
    "scrolled": true
   },
   "outputs": [
    {
     "name": "stdout",
     "output_type": "stream",
     "text": [
      "Valores Missing na coluna Bathroom:  0\n"
     ]
    },
    {
     "data": {
      "text/html": [
       "<div>\n",
       "<style scoped>\n",
       "    .dataframe tbody tr th:only-of-type {\n",
       "        vertical-align: middle;\n",
       "    }\n",
       "\n",
       "    .dataframe tbody tr th {\n",
       "        vertical-align: top;\n",
       "    }\n",
       "\n",
       "    .dataframe thead th {\n",
       "        text-align: right;\n",
       "    }\n",
       "</style>\n",
       "<table border=\"1\" class=\"dataframe\">\n",
       "  <thead>\n",
       "    <tr style=\"text-align: right;\">\n",
       "      <th></th>\n",
       "      <th>Rooms</th>\n",
       "      <th>Bathroom</th>\n",
       "    </tr>\n",
       "  </thead>\n",
       "  <tbody>\n",
       "    <tr>\n",
       "      <th>Rooms</th>\n",
       "      <td>1.000000</td>\n",
       "      <td>0.656318</td>\n",
       "    </tr>\n",
       "    <tr>\n",
       "      <th>Bathroom</th>\n",
       "      <td>0.656318</td>\n",
       "      <td>1.000000</td>\n",
       "    </tr>\n",
       "  </tbody>\n",
       "</table>\n",
       "</div>"
      ],
      "text/plain": [
       "             Rooms  Bathroom\n",
       "Rooms     1.000000  0.656318\n",
       "Bathroom  0.656318  1.000000"
      ]
     },
     "execution_count": 13,
     "metadata": {},
     "output_type": "execute_result"
    }
   ],
   "source": [
    "print('Valores Missing na coluna Bathroom: ',df['Bathroom'].isna().sum())\n",
    "df[['Rooms', 'Bathroom']].corr()"
   ]
  },
  {
   "cell_type": "markdown",
   "id": "d2106096-4611-4b2e-b472-4e9ee24ddd11",
   "metadata": {},
   "source": [
    "* A correlação entre as variaveis aumentou, o que é um bom sinal."
   ]
  },
  {
   "cell_type": "markdown",
   "id": "3afcc7df-b9d1-4353-8e0b-ea2ca067cb9b",
   "metadata": {
    "jp-MarkdownHeadingCollapsed": true
   },
   "source": [
    "### Car"
   ]
  },
  {
   "cell_type": "code",
   "execution_count": 14,
   "id": "0f3cd724-4816-457d-ac77-c6a626725ca6",
   "metadata": {
    "scrolled": true
   },
   "outputs": [
    {
     "data": {
      "text/plain": [
       "Car\n",
       "2.0     12214\n",
       "1.0      9164\n",
       "0.0      1631\n",
       "3.0      1606\n",
       "4.0      1161\n",
       "5.0       151\n",
       "6.0       140\n",
       "7.0        25\n",
       "8.0        23\n",
       "10.0        6\n",
       "9.0         3\n",
       "11.0        2\n",
       "26.0        1\n",
       "18.0        1\n",
       "12.0        1\n",
       "Name: count, dtype: int64"
      ]
     },
     "execution_count": 14,
     "metadata": {},
     "output_type": "execute_result"
    }
   ],
   "source": [
    "df['Car'].value_counts()"
   ]
  },
  {
   "cell_type": "markdown",
   "id": "d4eec929-ca58-48e7-8c41-830dc0feefe3",
   "metadata": {},
   "source": [
    "* Realizaremos algumas pesquisas no *Dataframe*\n",
    "  * Média do número de <span style=\"color: cadetblue;\">vagas de carro</span> por <span style=\"color: darkseagreen;\">número de quartos</span>\n",
    "  * Média do numero de <span style=\"color: cadetblue;\">vagas de carro</span> por <span style=\"color: DarkOrange;\">area construida</span>"
   ]
  },
  {
   "cell_type": "code",
   "execution_count": 15,
   "id": "bf5e278f-a4a3-4afe-aa3a-a655be4c78bf",
   "metadata": {},
   "outputs": [
    {
     "data": {
      "image/png": "[encoded data removed]",
      "text/plain": [
       "<Figure size 1400x600 with 1 Axes>"
      ]
     },
     "metadata": {},
     "output_type": "display_data"
    },
    {
     "data": {
      "image/png": "[encoded data removed]",
      "text/plain": [
       "<Figure size 1400x600 with 1 Axes>"
      ]
     },
     "metadata": {},
     "output_type": "display_data"
    }
   ],
   "source": [
    "# Rooms - Car\n",
    "\n",
    "# Calcular a média de 'Rooms' para cada valor de 'Car'\n",
    "df_grouped = df.groupby('Car')['Rooms'].mean().reset_index()\n",
    "\n",
    "# Ordenar os valores\n",
    "df_grouped = df_grouped.sort_values('Car')\n",
    "\n",
    "# Criar o barplot\n",
    "plt.figure(figsize=(14, 6))\n",
    "sns.barplot(x='Car', y='Rooms', data=df_grouped, hue='Car',palette='viridis')\n",
    "plt.title('Média de Número de Quartos por Número de Carros', fontsize=14)\n",
    "plt.xlabel('Número de Carros', fontsize=12)\n",
    "plt.ylabel('Média de Quartos (rooms)', fontsize=12)\n",
    "plt.xticks(rotation=45)\n",
    "\n",
    "# Adicionar os valores exatos em cima de cada barra\n",
    "for index, row in df_grouped.iterrows():\n",
    "    plt.text(index, row['Rooms'], f\"{row['Rooms']:.1f}\", \n",
    "             ha='center', va='bottom', fontsize=10)\n",
    "\n",
    "plt.show()\n",
    "\n",
    "\n",
    "\n",
    "\n",
    "# BuildingArea - Car\n",
    "\n",
    "\n",
    "# Calcular a média de 'BuildingArea' para cada valor de 'Car'\n",
    "df_grouped = df.groupby('Car')['BuildingArea'].mean().reset_index()\n",
    "\n",
    "# Ordenar os valores\n",
    "df_grouped = df_grouped.sort_values('Car')\n",
    "\n",
    "# Criar o barplot\n",
    "plt.figure(figsize=(14, 6))\n",
    "sns.barplot(x='Car', y='BuildingArea', data=df_grouped, hue='Car', palette='viridis')\n",
    "plt.title('Média de Área Construida por número de Vagas na garagem', fontsize=14)\n",
    "plt.xlabel('Número de Carros', fontsize=12)\n",
    "plt.ylabel('Média de Área Construida', fontsize=12)\n",
    "plt.xticks(rotation=45)\n",
    "\n",
    "# Adicionar os valores exatos em cima de cada barra\n",
    "for index, row in df_grouped.iterrows():\n",
    "    if pd.notnull(row['BuildingArea']) and np.isfinite(row['BuildingArea']):\n",
    "        plt.text(index, row['BuildingArea'], f\"{row['BuildingArea']:.1f}\", \n",
    "                 ha='center', va='bottom', fontsize=10)\n",
    "\n",
    "plt.show()\n"
   ]
  },
  {
   "cell_type": "markdown",
   "id": "ab97a43c-6ad9-414a-a648-b132d30331c0",
   "metadata": {},
   "source": [
    "**Descobertas**\n",
    "\n",
    "* <span style=\"color: cadetblue;\">Car</span> e <span style=\"color: darkseagreen;\">Rooms</span> aparentam ter uma relação melhor que <span style=\"color: cadetblue;\">Car</span> e <span style=\"color: DarkOrange;\">BuildingArea</span>. o que vimos anteriormente pela *matriz de correlação*\n",
    "\n",
    "* Parece ter um *outlier* onde o valor de <span style=\"color: cadetblue;\">Car</span> é <span style=\"color: cadetblue;\">5</span>\n",
    "\n",
    "* Os valores onde <span style=\"color: cadetblue;\">Car</span> é <span style=\"color: cadetblue;\">18</span> ou <span style=\"color: cadetblue;\">26</span> parecem ter sido imputados errados, possuindo muitas vagas, uma <span style=\"color: DarkOrange;\">area construida</span> que não condiz com as <span style=\"color: cadetblue;\">vagas</span > ou com a <span style=\"color: darkseagreen;\">Quantidade de quartos</span>\n",
    "\n",
    "* Os valores onde <span style=\"color: cadetblue;\">Car</span> é <span style=\"color: cadetblue;\">9</span> ou <span style=\"color: cadetblue;\">10</span>\n",
    "parecem levemente fora da curva, mas podem ter alguns fatores:\n",
    "\n",
    "    * Em muitos casos, um <span style=\"color: darkseagreen;\">número maior de quartos</span> pode estar associado a uma <span style=\"color: DarkOrange;\">área maior</span>, mas não de forma linear. Por exemplo, algumas casas podem ter quartos menores, mas ainda assim ocuparem uma grande área devido a outros fatores, como a disposição do espaço ou presença de áreas de lazer, garagem, etc.\n",
    "      \n",
    "    * **Imóveis diferentes:** Mesmo com um <span style=\"color: darkseagreen;\">número médio de quartos</span> relativamente alto, a <span style=\"color: DarkOrange;\">área construída</span> pode ser impactada por imóveis que possuam características específicas, como jardins grandes, pátios, ou áreas adicionais (como varandas ou corredores largos), que aumentam a área total sem necessariamente refletir no número de quartos.\n",
    " \n",
    "\n",
    "**Ações que serão tomadas**\n",
    "\n",
    "* Exclusão de outliers e imputações irregulares.\n",
    "  * O outlier visto em que o valor de <span style=\"color: cadetblue;\">Car</span> é <span style=\"color: cadetblue;\">5</span> será excluido do *dataframe*\n",
    "  * as duas imputações irregulares serão excluidas. ( <span style=\"color: cadetblue;\">Car</span> é igual <span style=\"color: cadetblue;\">18</span> ou <span style=\"color: cadetblue;\">26</span> ) <br><br>\n",
    "\n",
    "* Será atribuido aos *valores ausentes* uma média da variavel <span style=\"color: cadetblue;\">Car</span> tendo como base a variavel <span style=\"color: darkseagreen;\">Rooms</span>. em seguida será arredondando para baixo para evitar números não inteiros que possam aparecer enquanto geramos a média."
   ]
  },
  {
   "cell_type": "code",
   "execution_count": 16,
   "id": "421db60f-978c-4b90-8368-989fb1d5c78c",
   "metadata": {},
   "outputs": [],
   "source": [
    "df = df[~df['Car'].isin([18, 26])]\n",
    "\n",
    "\n",
    "# Outlier BuildingArea Car = 5\n",
    "df_car_5 = df[df['Car'] == 5]\n",
    "max_building_area = df_car_5['BuildingArea'].max()\n",
    "df = df[~((df['Car'] == 5) & (df['BuildingArea'] == max_building_area))]"
   ]
  },
  {
   "cell_type": "code",
   "execution_count": 17,
   "id": "532c1fce-89b0-478d-8ba6-590019899358",
   "metadata": {},
   "outputs": [
    {
     "data": {
      "text/plain": [
       "Car\n",
       "2.0     12214\n",
       "1.0      9164\n",
       "0.0      1631\n",
       "3.0      1606\n",
       "4.0      1161\n",
       "5.0       150\n",
       "6.0       140\n",
       "7.0        25\n",
       "8.0        23\n",
       "10.0        6\n",
       "9.0         3\n",
       "11.0        2\n",
       "12.0        1\n",
       "Name: count, dtype: int64"
      ]
     },
     "execution_count": 17,
     "metadata": {},
     "output_type": "execute_result"
    }
   ],
   "source": [
    "# Ordenar os valores da coluna 'Car' em ordem crescente\n",
    "df['Car'].value_counts()"
   ]
  },
  {
   "cell_type": "markdown",
   "id": "079db95b-3c98-4c9e-8889-4d3d490e3710",
   "metadata": {},
   "source": [
    "* Vamos então calcular a **mediana** da variável <span style=\"color: cadetblue;\">Car</span> agrupando pela variável <span style=\"color: darkseagreen;\">Rooms</span> e pelo <span style=\"color: DarkOrange;\">tipo do imóvel</span>."
   ]
  },
  {
   "cell_type": "code",
   "execution_count": 18,
   "id": "2d1cb7a1-36e2-4ed5-b1cf-c688fd4d3762",
   "metadata": {},
   "outputs": [],
   "source": [
    "# Calcular a mediana por 'Rooms' e 'Type'\n",
    "median_by_rooms_type = df.groupby(['Rooms', 'Type_numeric'])['Car'].median().reset_index()\n",
    "median_by_rooms_type.rename(columns={'Car': 'Car_median'}, inplace=True)\n",
    "\n",
    "# Mesclar com o DataFrame original\n",
    "df = df.merge(median_by_rooms_type, on=['Rooms', 'Type_numeric'], how='left')\n",
    "\n",
    "# Preencher missings e arredondar\n",
    "df['Car'] = df.apply(\n",
    "    lambda row: np.floor(row['Car_median']) if pd.isnull(row['Car']) else row['Car'],\n",
    "    axis=1\n",
    ")\n",
    "\n",
    "# Remover coluna auxiliar\n",
    "df.drop(columns=['Car_median'], inplace=True)"
   ]
  },
  {
   "cell_type": "code",
   "execution_count": 19,
   "id": "fa854498-9053-4751-a4a8-6d7369f473cb",
   "metadata": {
    "scrolled": true
   },
   "outputs": [
    {
     "data": {
      "text/plain": [
       "1"
      ]
     },
     "execution_count": 19,
     "metadata": {},
     "output_type": "execute_result"
    }
   ],
   "source": [
    "df['Car'].isnull().sum()  "
   ]
  },
  {
   "cell_type": "markdown",
   "id": "351ea072-f09c-467c-8b50-b104c4d0be80",
   "metadata": {},
   "source": [
    "* Sobrou apenas um valor faltante no qual iremos excluir a linha"
   ]
  },
  {
   "cell_type": "code",
   "execution_count": 20,
   "id": "a8f370e9-bd1b-42d1-b63d-6a3c7659cbed",
   "metadata": {},
   "outputs": [],
   "source": [
    "df = df.dropna(subset=['Car'])"
   ]
  },
  {
   "cell_type": "code",
   "execution_count": 21,
   "id": "749fadb5-7808-4c35-b05f-927c06c2be59",
   "metadata": {
    "scrolled": true
   },
   "outputs": [
    {
     "data": {
      "text/html": [
       "<div>\n",
       "<style scoped>\n",
       "    .dataframe tbody tr th:only-of-type {\n",
       "        vertical-align: middle;\n",
       "    }\n",
       "\n",
       "    .dataframe tbody tr th {\n",
       "        vertical-align: top;\n",
       "    }\n",
       "\n",
       "    .dataframe thead th {\n",
       "        text-align: right;\n",
       "    }\n",
       "</style>\n",
       "<table border=\"1\" class=\"dataframe\">\n",
       "  <thead>\n",
       "    <tr style=\"text-align: right;\">\n",
       "      <th></th>\n",
       "      <th>Car</th>\n",
       "      <th>Rooms</th>\n",
       "      <th>BuildingArea</th>\n",
       "      <th>Type_numeric</th>\n",
       "    </tr>\n",
       "  </thead>\n",
       "  <tbody>\n",
       "    <tr>\n",
       "      <th>Car</th>\n",
       "      <td>1.000000</td>\n",
       "      <td>0.448079</td>\n",
       "      <td>0.235785</td>\n",
       "      <td>-0.211678</td>\n",
       "    </tr>\n",
       "    <tr>\n",
       "      <th>Rooms</th>\n",
       "      <td>0.448079</td>\n",
       "      <td>1.000000</td>\n",
       "      <td>0.423887</td>\n",
       "      <td>-0.365013</td>\n",
       "    </tr>\n",
       "    <tr>\n",
       "      <th>BuildingArea</th>\n",
       "      <td>0.235785</td>\n",
       "      <td>0.423887</td>\n",
       "      <td>1.000000</td>\n",
       "      <td>-0.164102</td>\n",
       "    </tr>\n",
       "    <tr>\n",
       "      <th>Type_numeric</th>\n",
       "      <td>-0.211678</td>\n",
       "      <td>-0.365013</td>\n",
       "      <td>-0.164102</td>\n",
       "      <td>1.000000</td>\n",
       "    </tr>\n",
       "  </tbody>\n",
       "</table>\n",
       "</div>"
      ],
      "text/plain": [
       "                   Car     Rooms  BuildingArea  Type_numeric\n",
       "Car           1.000000  0.448079      0.235785     -0.211678\n",
       "Rooms         0.448079  1.000000      0.423887     -0.365013\n",
       "BuildingArea  0.235785  0.423887      1.000000     -0.164102\n",
       "Type_numeric -0.211678 -0.365013     -0.164102      1.000000"
      ]
     },
     "execution_count": 21,
     "metadata": {},
     "output_type": "execute_result"
    }
   ],
   "source": [
    "df[['Car','Rooms', 'BuildingArea','Type_numeric']].corr()  "
   ]
  },
  {
   "cell_type": "markdown",
   "id": "a8ecdd3b-355a-485a-84ad-8e8cf320bc8f",
   "metadata": {},
   "source": [
    "* A variável <span style=\"color: cadetblue;\">Car</span> não apresenta mais valores nulos e a sua *correlação* com as demais variaveis demonstrou um aumento relevante."
   ]
  },
  {
   "cell_type": "markdown",
   "id": "69748569-61cc-4322-b0c7-8d2d328f7978",
   "metadata": {
    "jp-MarkdownHeadingCollapsed": true
   },
   "source": [
    "### YearBuilt"
   ]
  },
  {
   "cell_type": "code",
   "execution_count": 22,
   "id": "526b280c-0a93-4974-baf5-96900801a1c2",
   "metadata": {},
   "outputs": [
    {
     "name": "stdout",
     "output_type": "stream",
     "text": [
      "1196.0\n",
      "2106.0\n"
     ]
    }
   ],
   "source": [
    "print(df['YearBuilt'].min())\n",
    "print(df['YearBuilt'].max())"
   ]
  },
  {
   "cell_type": "code",
   "execution_count": 23,
   "id": "ed5c3b63-ba7e-4190-8f26-216b4d03fc06",
   "metadata": {},
   "outputs": [
    {
     "name": "stdout",
     "output_type": "stream",
     "text": [
      "       YearBuilt\n",
      "2453      2106.0\n",
      "3533      1830.0\n",
      "13654     1800.0\n",
      "16423     1196.0\n",
      "25759     1820.0\n"
     ]
    },
    {
     "data": {
      "text/plain": [
       "array([  nan, 1900., 2014., 2006., 1910., 2009., 1860., 1890., 1925.,\n",
       "       2005., 2010., 1880., 1985., 1970., 2013., 2012., 1920., 1950.,\n",
       "       1998., 1930., 2016., 1965., 1960., 1980., 2011., 2015., 1975.,\n",
       "       1993., 2003., 1995., 1996., 2000., 1990., 1915., 2004., 2008.,\n",
       "       1916., 1962., 1955., 1988., 1953., 1997., 2007., 1967., 1964.,\n",
       "       1889., 1888., 1934., 1966., 1935., 1969., 1940., 1938., 1887.,\n",
       "       1904., 1972., 1978., 1939., 1945., 1927., 1948., 1947., 1968.,\n",
       "       1958., 2017., 1999., 1992., 1961., 1928., 1977., 1919., 1976.,\n",
       "       2001., 1926., 1981., 1986., 1943., 1974., 1956., 1936., 1957.,\n",
       "       1987., 2002., 1952., 1994., 1949., 1905., 1912., 1924., 1885.,\n",
       "       1923., 1918., 1991., 1942., 1973., 2018., 1982., 2106., 1971.,\n",
       "       1963., 1931., 1897., 1906., 1883., 1989., 1983., 1937., 1903.,\n",
       "       1913., 1830., 1895., 1908., 1917., 1902., 1854., 1850., 1898.,\n",
       "       1941., 1951., 1946., 1984., 1901., 1921., 1929., 1959., 1979.,\n",
       "       1892., 1933., 1911., 1886., 1876., 1907., 1881., 1870., 1932.,\n",
       "       1875., 1863., 1893., 1856., 1877., 1894., 1857., 1914., 1868.,\n",
       "       1884., 1872., 1954., 1922., 1896., 1800., 1909., 1196., 1891.,\n",
       "       1862., 1871., 1899., 1820., 1869., 1855., 2019., 1879.])"
      ]
     },
     "execution_count": 23,
     "metadata": {},
     "output_type": "execute_result"
    }
   ],
   "source": [
    "# Calculando o IQR para YearBuilt\n",
    "Q1 = df['YearBuilt'].quantile(0.25)\n",
    "Q3 = df['YearBuilt'].quantile(0.75)\n",
    "IQR = Q3 - Q1\n",
    "\n",
    "# Definindo os limites para outliers\n",
    "lower_bound = Q1 - 1.5 * IQR\n",
    "upper_bound = Q3 + 1.5 * IQR\n",
    "\n",
    "# Filtrando os outliers\n",
    "outliers = df[(df['YearBuilt'] < lower_bound) | (df['YearBuilt'] > upper_bound)]\n",
    "\n",
    "# Verificando os outliers\n",
    "print(outliers[['YearBuilt']])\n",
    "df['YearBuilt'].unique()"
   ]
  },
  {
   "cell_type": "markdown",
   "id": "c9e3c28a-0bf0-4ec6-8bde-605c415fa131",
   "metadata": {},
   "source": [
    "* De cara nos debatemos com 2 *outliers* na variável <span style=\"color: cadetblue;\">BuiltYear</span>, contudo podemos perceber que são apenas esses 2 valores que estão desconexos.\n",
    "    * Possivelmente foi uma *falha humana* na hora de colocar os valores, ou no **dataset** ou no **site responsável**. \n",
    "    * Pois podemos ver que se inverter os valores do centro, se torna um valor dentro do previsto (**1916 e 2016**)\n",
    "      * Demonstrando mais ainda uma possível *falha humana*.\n",
    "\n"
   ]
  },
  {
   "cell_type": "code",
   "execution_count": 24,
   "id": "7be482b4-db7f-43e1-a30f-a513c3cc357e",
   "metadata": {
    "scrolled": true
   },
   "outputs": [
    {
     "name": "stdout",
     "output_type": "stream",
     "text": [
      "               Suburb         Address  Rooms Type      Price Method  SellerG  \\\n",
      "2453          Bulleen    3 Maringa St      4    h        NaN     SP      Ray   \n",
      "16423  Mount Waverley  5 Armstrong St      3    h  1200000.0     VB  McGrath   \n",
      "\n",
      "            Date  Distance  Postcode  ...  BuildingArea  YearBuilt  \\\n",
      "2453  2016-11-07      11.8    3105.0  ...         255.0     2106.0   \n",
      "16423 2017-06-24      14.2    3149.0  ...         117.0     1196.0   \n",
      "\n",
      "                   CouncilArea  Lattitude  Longtitude            Regionname  \\\n",
      "2453   Manningham City Council  -37.76370   145.08810  Eastern Metropolitan   \n",
      "16423      Monash City Council  -37.86788   145.12121  Eastern Metropolitan   \n",
      "\n",
      "       Propertycount  Type_numeric Year_Sold  Month_Sold  \n",
      "2453          4480.0             0      2016          11  \n",
      "16423        13366.0             0      2017           6  \n",
      "\n",
      "[2 rows x 23 columns]\n"
     ]
    }
   ],
   "source": [
    "# Filtrando as linhas onde YearBuilt é igual aos outliers específicos\n",
    "outliers_stranhos = df[(df['YearBuilt'] == 1196) | (df['YearBuilt'] == 2106)]\n",
    "\n",
    "# Exibindo as linhas com os outliers\n",
    "print(outliers_stranhos)\n"
   ]
  },
  {
   "cell_type": "code",
   "execution_count": 25,
   "id": "2f8c3cae-2166-4da0-bfbc-45afc256f297",
   "metadata": {},
   "outputs": [
    {
     "name": "stdout",
     "output_type": "stream",
     "text": [
      "[  nan 1900. 2014. 2006. 1910. 2009. 1860. 1890. 1925. 2005. 2010. 1880.\n",
      " 1985. 1970. 2013. 2012. 1920. 1950. 1998. 1930. 2016. 1965. 1960. 1980.\n",
      " 2011. 2015. 1975. 1993. 2003. 1995. 1996. 2000. 1990. 1915. 2004. 2008.\n",
      " 1916. 1962. 1955. 1988. 1953. 1997. 2007. 1967. 1964. 1889. 1888. 1934.\n",
      " 1966. 1935. 1969. 1940. 1938. 1887. 1904. 1972. 1978. 1939. 1945. 1927.\n",
      " 1948. 1947. 1968. 1958. 2017. 1999. 1992. 1961. 1928. 1977. 1919. 1976.\n",
      " 2001. 1926. 1981. 1986. 1943. 1974. 1956. 1936. 1957. 1987. 2002. 1952.\n",
      " 1994. 1949. 1905. 1912. 1924. 1885. 1923. 1918. 1991. 1942. 1973. 2018.\n",
      " 1982. 1971. 1963. 1931. 1897. 1906. 1883. 1989. 1983. 1937. 1903. 1913.\n",
      " 1830. 1895. 1908. 1917. 1902. 1854. 1850. 1898. 1941. 1951. 1946. 1984.\n",
      " 1901. 1921. 1929. 1959. 1979. 1892. 1933. 1911. 1886. 1876. 1907. 1881.\n",
      " 1870. 1932. 1875. 1863. 1893. 1856. 1877. 1894. 1857. 1914. 1868. 1884.\n",
      " 1872. 1954. 1922. 1896. 1800. 1909. 1891. 1862. 1871. 1899. 1820. 1869.\n",
      " 1855. 2019. 1879.]\n"
     ]
    }
   ],
   "source": [
    "# Substituindo os valores 1196 por 1916 e 2106 por 2016 na coluna 'YearBuilt_range'\n",
    "df['YearBuilt'] = df['YearBuilt'].replace({1196.0: 1916.0, 2106.0: 2016.0})\n",
    "\n",
    "# Verificando se a substituição foi feita corretamente\n",
    "print(df['YearBuilt'].unique())"
   ]
  },
  {
   "cell_type": "markdown",
   "id": "fb398e33-74c0-4658-8509-d80d843dba79",
   "metadata": {},
   "source": [
    "* As linhas com os *outliers* que vimos antes pareciam dentro da normalidade, apenas inverteremos os digitos centrais."
   ]
  },
  {
   "cell_type": "code",
   "execution_count": 26,
   "id": "d6d941d7-86c8-49a3-b43b-10ad4c0402c6",
   "metadata": {
    "scrolled": true
   },
   "outputs": [
    {
     "name": "stdout",
     "output_type": "stream",
     "text": [
      "[1970. 1900. 2014. 2006. 1910. 2009. 1860. 1890. 1925. 2005. 2010. 1880.\n",
      " 1985. 2013. 2012. 1920. 1950. 1998. 1930. 2016. 1965. 1960. 1980. 2011.\n",
      " 1977. 2015. 1975. 1993. 2003. 1995. 1996. 2000. 1990. 1915. 2004. 2008.\n",
      " 1916. 1962. 1955. 1988. 1953. 1997. 2007. 1967. 1964. 1889. 1888. 1934.\n",
      " 1966. 1935. 1969. 1940. 1938. 1887. 1904. 1972. 1978. 1939. 1945. 1927.\n",
      " 1948. 1947. 1968. 1958. 2017. 1999. 1992. 1961. 1928. 1919. 1976. 2001.\n",
      " 1926. 1981. 1986. 1943. 1974. 1956. 1936. 1957. 1987. 2002. 1952. 1994.\n",
      " 1949. 1905. 1912. 1924. 1885. 1923. 1918. 1991. 1942. 1973. 2018. 1982.\n",
      " 1971. 1963. 1931. 1897. 1906. 1883. 1989. 1983. 1937. 1903. 1913. 1830.\n",
      " 1895. 1908. 1917. 1902. 1854. 1850. 1898. 1941. 1951. 1946. 1984. 1901.\n",
      " 1921. 1929. 1959. 1979. 1892. 1933. 1911. 1886. 1876. 1907. 1881. 1870.\n",
      " 1932. 1875. 1863. 1893. 1856. 1877. 1894. 1857. 1914. 1868. 1884. 1872.\n",
      " 1954. 1922. 1896. 1800. 1909. 1891. 1862. 1871. 1899. 1820. 1869. 1855.\n",
      " 2019. 1879.]\n",
      "\n",
      "Valores Ausentes em YearBuilt 0\n"
     ]
    }
   ],
   "source": [
    "df['YearBuilt'] = df.groupby('Regionname')['YearBuilt'].transform(\n",
    "    lambda x: x.fillna(x.median())\n",
    ")\n",
    "print(df['YearBuilt'].unique())\n",
    "print(\"\\nValores Ausentes em YearBuilt\",df['YearBuilt'].isna().sum())"
   ]
  },
  {
   "cell_type": "markdown",
   "id": "4856f98b-0079-4864-8905-2489fda15c5a",
   "metadata": {},
   "source": [
    "**Para os valores ausentes:**\n",
    "\n",
    "* Imputamos a mediana de <span style=\"color: cadetblue;\">YearBuilt</span> com base na <span style=\"color: darkseagreen;\">Região</span> correspondente;\n",
    "\n",
    "  * isso porque, geralmente, durante o processo de *loteamento e urbanização acelerada*, as construções residenciais e comerciais surgem em conjunto, fazendo com que as edificações de uma mesma região tenham idades semelhantes."
   ]
  },
  {
   "cell_type": "markdown",
   "id": "ef9774f2-fa03-4984-8695-c1c083c909e6",
   "metadata": {
    "jp-MarkdownHeadingCollapsed": true
   },
   "source": [
    "### BuildingArea"
   ]
  },
  {
   "cell_type": "code",
   "execution_count": 27,
   "id": "01bc9a7e-9128-40ca-ba8a-8fa820f36839",
   "metadata": {},
   "outputs": [
    {
     "name": "stdout",
     "output_type": "stream",
     "text": [
      "\n",
      "BuildingArea ausente: 60.57%\n",
      "count    13740.000000\n",
      "mean       157.003526\n",
      "std        133.512707\n",
      "min          0.000000\n",
      "25%        102.000000\n",
      "50%        136.000000\n",
      "75%        188.000000\n",
      "max       6791.000000\n",
      "Name: BuildingArea, dtype: float64\n"
     ]
    }
   ],
   "source": [
    "# Verificando a distribuição de valores ausentes\n",
    "\n",
    "print(f\"\\nBuildingArea ausente: {df['BuildingArea'].isna().mean()*100:.2f}%\")\n",
    "print(df['BuildingArea'].describe())"
   ]
  },
  {
   "cell_type": "markdown",
   "id": "4fe3c49c-3442-46a1-8e03-909116c01c49",
   "metadata": {},
   "source": [
    "* <span style=\"color: cadetblue;\">BuildingArea</span> se mostrou uma variável complicada, pois 60% dos seus dados estão faltando.\n",
    "  * Assim, separaremos as possiveis variáveis para realizar uma *Regressão RandomForest*\n",
    "    - *Rooms*\n",
    "    - *Bathroom*\n",
    "    - *Car*\n",
    "    - *YearBuilt*\n",
    "    - *Type*\n",
    "    - *Distance* <br><br>\n",
    " \n",
    "* Não utilizaremos a variável <span style=\"color: darkseagreen;\">Landsize</span> pois queremos explicar a mesma utilizando da <span style=\"color: cadetblue;\">BuildingArea</span>."
   ]
  },
  {
   "cell_type": "code",
   "execution_count": 28,
   "id": "b18e1925-fb41-4bce-941c-9e5434730671",
   "metadata": {},
   "outputs": [
    {
     "name": "stdout",
     "output_type": "stream",
     "text": [
      "\n",
      "BuildingArea ausente após tratamento: 0.00%\n",
      "\n",
      "Distribuição dos valores imputados:\n",
      "        count        mean         std  min         25%         50%  \\\n",
      "Type                                                                 \n",
      "h     23975.0  171.328793  105.006949  0.0  120.573667  152.610000   \n",
      "t      3579.0  156.556659  257.274962  0.0   96.198000  125.460000   \n",
      "u      7296.0   83.382410   45.162032  0.0   61.000000   75.525333   \n",
      "\n",
      "             75%     max  \n",
      "Type                      \n",
      "h     200.000000  6791.0  \n",
      "t     164.186667  6178.0  \n",
      "u      96.000000  1561.0  \n"
     ]
    }
   ],
   "source": [
    "# Preparar dados para modelo\n",
    "non_missing = df.dropna(subset=['BuildingArea'])\n",
    "missing = df[df['BuildingArea'].isna()]\n",
    "\n",
    "# Features relevantes (incluindo Type_numeric em vez de Type)\n",
    "features = ['Rooms', 'Bathroom', 'Car', 'YearBuilt', 'Type_numeric', 'Distance']\n",
    "\n",
    "# DataFrames de treino e predição (sem get_dummies)\n",
    "X_train = non_missing[features]\n",
    "X_pred = missing[features]\n",
    "\n",
    "# Verificar se há dados suficientes para o modelo\n",
    "if len(non_missing) > 100 and not X_pred.empty:\n",
    "    model = RandomForestRegressor(n_estimators=50, random_state=42)\n",
    "    model.fit(X_train, non_missing['BuildingArea'])\n",
    "    df.loc[missing.index, 'BuildingArea'] = model.predict(X_pred)\n",
    "\n",
    "# Flag de imputação\n",
    "df['BuildingArea_imputed'] = df['BuildingArea'].isna()\n",
    "\n",
    "# Verificação final\n",
    "print(f\"\\nBuildingArea ausente após tratamento: {df['BuildingArea'].isna().mean()*100:.2f}%\")\n",
    "print(\"\\nDistribuição dos valores imputados:\")\n",
    "print(df.groupby('Type')['BuildingArea'].describe())"
   ]
  },
  {
   "cell_type": "markdown",
   "id": "97df062e-b4cf-4838-acfe-efa35b0f7dae",
   "metadata": {},
   "source": [
    "### Landsize"
   ]
  },
  {
   "cell_type": "code",
   "execution_count": 29,
   "id": "2a874f2b-6fc3-42d6-8e51-860529e8642d",
   "metadata": {
    "scrolled": true
   },
   "outputs": [
    {
     "name": "stdout",
     "output_type": "stream",
     "text": [
      "\n",
      "Landsize ausente após tratamento: 0.00%\n",
      "\n",
      "Estatísticas descritivas por tipo de propriedade:\n",
      "        count        mean          std  min    25%    50%    75%       max\n",
      "Type                                                                      \n",
      "h     23975.0  619.627665  3247.369724  0.0  420.0  572.0  669.0  433014.0\n",
      "t      3579.0  250.480555   482.341603  0.0  140.0  213.5  268.5   15900.0\n",
      "u      7296.0  275.849713  1225.467291  0.0    0.0    0.0  183.5   37000.0\n"
     ]
    }
   ],
   "source": [
    "# Imputação hierárquica por grupos relevantes\n",
    "\n",
    "df['Landsize'] = df.groupby([\n",
    "    'Type_numeric',      \n",
    "    'Regionname',        \n",
    "    'Rooms'              \n",
    "])['Landsize'].transform(lambda x: x.fillna(x.median()))\n",
    "\n",
    "# Modelo preditivo para casos restantes (se necessário)\n",
    "if df['Landsize'].isna().sum() > 0:\n",
    "    from sklearn.ensemble import RandomForestRegressor\n",
    "    \n",
    "    # Definir features relevantes para Landsize\n",
    "    landsize_features = ['BuildingArea', 'Rooms', 'Type_numeric', 'Distance', 'Propertycount']\n",
    "    \n",
    "    # Filtrar dados completos para treino\n",
    "    landsize_non_missing = df.dropna(subset=['Landsize'] + landsize_features)\n",
    "    landsize_missing = df[df['Landsize'].isna() & df[landsize_features].notna().all(axis=1)]\n",
    "    \n",
    "    if len(landsize_non_missing) > 50 and not landsize_missing.empty:\n",
    "        X_train = landsize_non_missing[landsize_features]\n",
    "        y_train = landsize_non_missing['Landsize']\n",
    "        X_pred = landsize_missing[landsize_features]\n",
    "        \n",
    "        model = RandomForestRegressor(n_estimators=250, random_state=27)\n",
    "        model.fit(X_train, y_train)\n",
    "        df.loc[landsize_missing.index, 'Landsize'] = model.predict(X_pred)\n",
    "\n",
    "# Flag de imputação e verificação\n",
    "df['Landsize_imputed'] = df['Landsize'].isna()\n",
    "print(f\"\\nLandsize ausente após tratamento: {df['Landsize'].isna().mean()*100:.2f}%\")\n",
    "print(\"\\nEstatísticas descritivas por tipo de propriedade:\")\n",
    "print(df.groupby('Type')['Landsize'].describe())"
   ]
  },
  {
   "cell_type": "code",
   "execution_count": 30,
   "id": "cd924062-cc4f-4d0c-8f45-103a60608724",
   "metadata": {},
   "outputs": [
    {
     "data": {
      "text/html": [
       "<div>\n",
       "<style scoped>\n",
       "    .dataframe tbody tr th:only-of-type {\n",
       "        vertical-align: middle;\n",
       "    }\n",
       "\n",
       "    .dataframe tbody tr th {\n",
       "        vertical-align: top;\n",
       "    }\n",
       "\n",
       "    .dataframe thead th {\n",
       "        text-align: right;\n",
       "    }\n",
       "</style>\n",
       "<table border=\"1\" class=\"dataframe\">\n",
       "  <thead>\n",
       "    <tr style=\"text-align: right;\">\n",
       "      <th></th>\n",
       "      <th>Suburb</th>\n",
       "      <th>Address</th>\n",
       "      <th>Rooms</th>\n",
       "      <th>Type</th>\n",
       "      <th>Price</th>\n",
       "      <th>Method</th>\n",
       "      <th>SellerG</th>\n",
       "      <th>Date</th>\n",
       "      <th>Distance</th>\n",
       "      <th>Postcode</th>\n",
       "      <th>Bathroom</th>\n",
       "      <th>Car</th>\n",
       "      <th>Landsize</th>\n",
       "      <th>BuildingArea</th>\n",
       "      <th>YearBuilt</th>\n",
       "      <th>CouncilArea</th>\n",
       "      <th>Lattitude</th>\n",
       "      <th>Longtitude</th>\n",
       "      <th>Regionname</th>\n",
       "      <th>Propertycount</th>\n",
       "      <th>Type_numeric</th>\n",
       "      <th>Year_Sold</th>\n",
       "      <th>Month_Sold</th>\n",
       "      <th>BuildingArea_imputed</th>\n",
       "      <th>Landsize_imputed</th>\n",
       "    </tr>\n",
       "  </thead>\n",
       "  <tbody>\n",
       "    <tr>\n",
       "      <th>18035</th>\n",
       "      <td>Fitzroy</td>\n",
       "      <td>389 Gore St</td>\n",
       "      <td>3</td>\n",
       "      <td>h</td>\n",
       "      <td>2700000.0</td>\n",
       "      <td>VB</td>\n",
       "      <td>Kay</td>\n",
       "      <td>2017-08-12</td>\n",
       "      <td>2.1</td>\n",
       "      <td>3065.0</td>\n",
       "      <td>3.0</td>\n",
       "      <td>1.0</td>\n",
       "      <td>433014.0</td>\n",
       "      <td>188.474000</td>\n",
       "      <td>1970.0</td>\n",
       "      <td>Yarra City Council</td>\n",
       "      <td>-37.79751</td>\n",
       "      <td>144.98309</td>\n",
       "      <td>Northern Metropolitan</td>\n",
       "      <td>5825.0</td>\n",
       "      <td>0</td>\n",
       "      <td>2017</td>\n",
       "      <td>8</td>\n",
       "      <td>False</td>\n",
       "      <td>False</td>\n",
       "    </tr>\n",
       "    <tr>\n",
       "      <th>26864</th>\n",
       "      <td>Bullengarook</td>\n",
       "      <td>65 Webb Rd</td>\n",
       "      <td>4</td>\n",
       "      <td>h</td>\n",
       "      <td>1050000.0</td>\n",
       "      <td>PI</td>\n",
       "      <td>Raine</td>\n",
       "      <td>2017-11-11</td>\n",
       "      <td>45.9</td>\n",
       "      <td>3437.0</td>\n",
       "      <td>2.0</td>\n",
       "      <td>1.0</td>\n",
       "      <td>146699.0</td>\n",
       "      <td>159.980000</td>\n",
       "      <td>2000.0</td>\n",
       "      <td>Macedon Ranges Shire Council</td>\n",
       "      <td>-37.47540</td>\n",
       "      <td>144.51300</td>\n",
       "      <td>Northern Victoria</td>\n",
       "      <td>249.0</td>\n",
       "      <td>0</td>\n",
       "      <td>2017</td>\n",
       "      <td>11</td>\n",
       "      <td>False</td>\n",
       "      <td>False</td>\n",
       "    </tr>\n",
       "    <tr>\n",
       "      <th>24797</th>\n",
       "      <td>Wildwood</td>\n",
       "      <td>430 Wildwood Rd</td>\n",
       "      <td>5</td>\n",
       "      <td>h</td>\n",
       "      <td>1030000.0</td>\n",
       "      <td>S</td>\n",
       "      <td>RE</td>\n",
       "      <td>2017-10-14</td>\n",
       "      <td>31.7</td>\n",
       "      <td>3429.0</td>\n",
       "      <td>2.0</td>\n",
       "      <td>2.0</td>\n",
       "      <td>89030.0</td>\n",
       "      <td>83.240000</td>\n",
       "      <td>1977.0</td>\n",
       "      <td>Hume City Council</td>\n",
       "      <td>-37.60400</td>\n",
       "      <td>144.80604</td>\n",
       "      <td>Western Metropolitan</td>\n",
       "      <td>83.0</td>\n",
       "      <td>0</td>\n",
       "      <td>2017</td>\n",
       "      <td>10</td>\n",
       "      <td>False</td>\n",
       "      <td>False</td>\n",
       "    </tr>\n",
       "    <tr>\n",
       "      <th>32571</th>\n",
       "      <td>Diggers Rest</td>\n",
       "      <td>55 Morefield Ct</td>\n",
       "      <td>4</td>\n",
       "      <td>h</td>\n",
       "      <td>NaN</td>\n",
       "      <td>PI</td>\n",
       "      <td>Brad</td>\n",
       "      <td>2018-02-17</td>\n",
       "      <td>27.7</td>\n",
       "      <td>3427.0</td>\n",
       "      <td>2.0</td>\n",
       "      <td>2.0</td>\n",
       "      <td>80000.0</td>\n",
       "      <td>193.946667</td>\n",
       "      <td>1977.0</td>\n",
       "      <td>Hume City Council</td>\n",
       "      <td>-37.64310</td>\n",
       "      <td>144.75269</td>\n",
       "      <td>Western Metropolitan</td>\n",
       "      <td>1184.0</td>\n",
       "      <td>0</td>\n",
       "      <td>2018</td>\n",
       "      <td>2</td>\n",
       "      <td>False</td>\n",
       "      <td>False</td>\n",
       "    </tr>\n",
       "    <tr>\n",
       "      <th>17292</th>\n",
       "      <td>Silvan</td>\n",
       "      <td>16 Eleanor Dr</td>\n",
       "      <td>3</td>\n",
       "      <td>h</td>\n",
       "      <td>1085000.0</td>\n",
       "      <td>S</td>\n",
       "      <td>Harcourts</td>\n",
       "      <td>2017-05-27</td>\n",
       "      <td>34.6</td>\n",
       "      <td>3795.0</td>\n",
       "      <td>2.0</td>\n",
       "      <td>2.0</td>\n",
       "      <td>76000.0</td>\n",
       "      <td>146.885714</td>\n",
       "      <td>1986.0</td>\n",
       "      <td>Yarra Ranges Shire Council</td>\n",
       "      <td>-37.84739</td>\n",
       "      <td>145.47052</td>\n",
       "      <td>Eastern Victoria</td>\n",
       "      <td>457.0</td>\n",
       "      <td>0</td>\n",
       "      <td>2017</td>\n",
       "      <td>5</td>\n",
       "      <td>False</td>\n",
       "      <td>False</td>\n",
       "    </tr>\n",
       "  </tbody>\n",
       "</table>\n",
       "</div>"
      ],
      "text/plain": [
       "             Suburb          Address  Rooms Type      Price Method    SellerG  \\\n",
       "18035       Fitzroy      389 Gore St      3    h  2700000.0     VB        Kay   \n",
       "26864  Bullengarook       65 Webb Rd      4    h  1050000.0     PI      Raine   \n",
       "24797      Wildwood  430 Wildwood Rd      5    h  1030000.0      S         RE   \n",
       "32571  Diggers Rest  55 Morefield Ct      4    h        NaN     PI       Brad   \n",
       "17292        Silvan    16 Eleanor Dr      3    h  1085000.0      S  Harcourts   \n",
       "\n",
       "            Date  Distance  Postcode  Bathroom  Car  Landsize  BuildingArea  \\\n",
       "18035 2017-08-12       2.1    3065.0       3.0  1.0  433014.0    188.474000   \n",
       "26864 2017-11-11      45.9    3437.0       2.0  1.0  146699.0    159.980000   \n",
       "24797 2017-10-14      31.7    3429.0       2.0  2.0   89030.0     83.240000   \n",
       "32571 2018-02-17      27.7    3427.0       2.0  2.0   80000.0    193.946667   \n",
       "17292 2017-05-27      34.6    3795.0       2.0  2.0   76000.0    146.885714   \n",
       "\n",
       "       YearBuilt                   CouncilArea  Lattitude  Longtitude  \\\n",
       "18035     1970.0            Yarra City Council  -37.79751   144.98309   \n",
       "26864     2000.0  Macedon Ranges Shire Council  -37.47540   144.51300   \n",
       "24797     1977.0             Hume City Council  -37.60400   144.80604   \n",
       "32571     1977.0             Hume City Council  -37.64310   144.75269   \n",
       "17292     1986.0    Yarra Ranges Shire Council  -37.84739   145.47052   \n",
       "\n",
       "                  Regionname  Propertycount  Type_numeric  Year_Sold  \\\n",
       "18035  Northern Metropolitan         5825.0             0       2017   \n",
       "26864      Northern Victoria          249.0             0       2017   \n",
       "24797   Western Metropolitan           83.0             0       2017   \n",
       "32571   Western Metropolitan         1184.0             0       2018   \n",
       "17292       Eastern Victoria          457.0             0       2017   \n",
       "\n",
       "       Month_Sold  BuildingArea_imputed  Landsize_imputed  \n",
       "18035           8                 False             False  \n",
       "26864          11                 False             False  \n",
       "24797          10                 False             False  \n",
       "32571           2                 False             False  \n",
       "17292           5                 False             False  "
      ]
     },
     "execution_count": 30,
     "metadata": {},
     "output_type": "execute_result"
    }
   ],
   "source": [
    "pd.set_option('display.max_columns', None)\n",
    "df.sort_values(by='Landsize', ascending=False).head()"
   ]
  },
  {
   "cell_type": "markdown",
   "id": "83492330-c83c-4a4e-ac66-5c79dcd7614b",
   "metadata": {
    "jp-MarkdownHeadingCollapsed": true
   },
   "source": [
    "### Latitude e Longitude"
   ]
  },
  {
   "cell_type": "code",
   "execution_count": 31,
   "id": "9bd6b79c-0306-48e4-aae6-9c7a66bf0fae",
   "metadata": {},
   "outputs": [
    {
     "name": "stdout",
     "output_type": "stream",
     "text": [
      "Latitude ausente: 22.88%\n",
      "Longitude ausente: 22.88%\n"
     ]
    }
   ],
   "source": [
    "print(f\"Latitude ausente: {df['Lattitude'].isna().mean()*100:.2f}%\")\n",
    "print(f\"Longitude ausente: {df['Longtitude'].isna().mean()*100:.2f}%\")"
   ]
  },
  {
   "cell_type": "markdown",
   "id": "13e7f6fb-1fe6-4a1a-92ba-eb25f0790e99",
   "metadata": {},
   "source": [
    "* Como menos de **$\\dfrac{1}{4}$** do **Dataset** possui valores ausentes para <span style=\"color: cadetblue;\">latitude</span> e <span style=\"color: darkseagreen;\">longitude</span> utilizaremos de outra maneira para preencher os valores.\n",
    "\n",
    "*  Utilizaremos a média das <span style=\"color: cadetblue;\">coordenadas</span> das casas que se encontram na <span style=\"color: DarkOrange;\">mesma rua *(adress)*</span>  para preencher os valores.\n",
    "    * Caso não tenha nenhuma casa na rua com os valores preenchidos, utilizaremos a <span style=\"color: rosybrown;\">média da região</span>."
   ]
  },
  {
   "cell_type": "code",
   "execution_count": 32,
   "id": "2401da5f-fe53-43af-8f46-5bde2ba34648",
   "metadata": {},
   "outputs": [],
   "source": [
    "if df['Lattitude'].isna().any() or df['Longtitude'].isna().any():\n",
    "    # Preenche primeiro por endereço exato (se houver outros registros com mesmo endereço)\n",
    "    df['Lattitude'] = df.groupby('Address')['Lattitude'].transform(\n",
    "        lambda x: x.fillna(x.median()))\n",
    "    df['Longtitude'] = df.groupby('Address')['Longtitude'].transform(\n",
    "        lambda x: x.fillna(x.median()))\n",
    "    \n",
    "    # Para os restantes, preenche pela mediana da região\n",
    "    df['Lattitude'] = df.groupby('Regionname')['Lattitude'].transform(\n",
    "        lambda x: x.fillna(x.median()))\n",
    "    df['Longtitude'] = df.groupby('Regionname')['Longtitude'].transform(\n",
    "        lambda x: x.fillna(x.median()))"
   ]
  },
  {
   "cell_type": "code",
   "execution_count": 33,
   "id": "93b7e777-251a-451c-bb65-9457891506d5",
   "metadata": {},
   "outputs": [
    {
     "name": "stdout",
     "output_type": "stream",
     "text": [
      "\n",
      "Valores ausentes remanescentes:\n",
      "Latitude: 0\n",
      "Longitude: 0\n"
     ]
    }
   ],
   "source": [
    "print(\"\\nValores ausentes remanescentes:\")\n",
    "print(f\"Latitude: {df['Lattitude'].isna().sum()}\")\n",
    "print(f\"Longitude: {df['Longtitude'].isna().sum()}\")"
   ]
  },
  {
   "cell_type": "code",
   "execution_count": 34,
   "id": "3a1309c3-6455-478c-b322-3f888d5067d9",
   "metadata": {
    "scrolled": true
   },
   "outputs": [
    {
     "data": {
      "text/html": [
       "<div>\n",
       "<style scoped>\n",
       "    .dataframe tbody tr th:only-of-type {\n",
       "        vertical-align: middle;\n",
       "    }\n",
       "\n",
       "    .dataframe tbody tr th {\n",
       "        vertical-align: top;\n",
       "    }\n",
       "\n",
       "    .dataframe thead th {\n",
       "        text-align: right;\n",
       "    }\n",
       "</style>\n",
       "<table border=\"1\" class=\"dataframe\">\n",
       "  <thead>\n",
       "    <tr style=\"text-align: right;\">\n",
       "      <th></th>\n",
       "      <th>dtype</th>\n",
       "      <th>missing</th>\n",
       "      <th>valores_unicos</th>\n",
       "      <th>tipo</th>\n",
       "    </tr>\n",
       "  </thead>\n",
       "  <tbody>\n",
       "    <tr>\n",
       "      <th>Suburb</th>\n",
       "      <td>object</td>\n",
       "      <td>0</td>\n",
       "      <td>350</td>\n",
       "      <td>object</td>\n",
       "    </tr>\n",
       "    <tr>\n",
       "      <th>Address</th>\n",
       "      <td>object</td>\n",
       "      <td>0</td>\n",
       "      <td>34002</td>\n",
       "      <td>object</td>\n",
       "    </tr>\n",
       "    <tr>\n",
       "      <th>Rooms</th>\n",
       "      <td>int64</td>\n",
       "      <td>0</td>\n",
       "      <td>12</td>\n",
       "      <td>int64</td>\n",
       "    </tr>\n",
       "    <tr>\n",
       "      <th>Type</th>\n",
       "      <td>object</td>\n",
       "      <td>0</td>\n",
       "      <td>3</td>\n",
       "      <td>object</td>\n",
       "    </tr>\n",
       "    <tr>\n",
       "      <th>Price</th>\n",
       "      <td>float64</td>\n",
       "      <td>7608</td>\n",
       "      <td>2871</td>\n",
       "      <td>float64</td>\n",
       "    </tr>\n",
       "    <tr>\n",
       "      <th>Method</th>\n",
       "      <td>object</td>\n",
       "      <td>0</td>\n",
       "      <td>9</td>\n",
       "      <td>object</td>\n",
       "    </tr>\n",
       "    <tr>\n",
       "      <th>SellerG</th>\n",
       "      <td>object</td>\n",
       "      <td>0</td>\n",
       "      <td>388</td>\n",
       "      <td>object</td>\n",
       "    </tr>\n",
       "    <tr>\n",
       "      <th>Date</th>\n",
       "      <td>datetime64[ns]</td>\n",
       "      <td>0</td>\n",
       "      <td>78</td>\n",
       "      <td>datetime64[ns]</td>\n",
       "    </tr>\n",
       "    <tr>\n",
       "      <th>Distance</th>\n",
       "      <td>float64</td>\n",
       "      <td>0</td>\n",
       "      <td>215</td>\n",
       "      <td>float64</td>\n",
       "    </tr>\n",
       "    <tr>\n",
       "      <th>Postcode</th>\n",
       "      <td>float64</td>\n",
       "      <td>0</td>\n",
       "      <td>211</td>\n",
       "      <td>float64</td>\n",
       "    </tr>\n",
       "    <tr>\n",
       "      <th>Bathroom</th>\n",
       "      <td>float64</td>\n",
       "      <td>0</td>\n",
       "      <td>11</td>\n",
       "      <td>float64</td>\n",
       "    </tr>\n",
       "    <tr>\n",
       "      <th>Car</th>\n",
       "      <td>float64</td>\n",
       "      <td>0</td>\n",
       "      <td>13</td>\n",
       "      <td>float64</td>\n",
       "    </tr>\n",
       "    <tr>\n",
       "      <th>Landsize</th>\n",
       "      <td>float64</td>\n",
       "      <td>0</td>\n",
       "      <td>1716</td>\n",
       "      <td>float64</td>\n",
       "    </tr>\n",
       "    <tr>\n",
       "      <th>BuildingArea</th>\n",
       "      <td>float64</td>\n",
       "      <td>0</td>\n",
       "      <td>7435</td>\n",
       "      <td>float64</td>\n",
       "    </tr>\n",
       "    <tr>\n",
       "      <th>YearBuilt</th>\n",
       "      <td>float64</td>\n",
       "      <td>0</td>\n",
       "      <td>158</td>\n",
       "      <td>float64</td>\n",
       "    </tr>\n",
       "    <tr>\n",
       "      <th>CouncilArea</th>\n",
       "      <td>object</td>\n",
       "      <td>0</td>\n",
       "      <td>33</td>\n",
       "      <td>object</td>\n",
       "    </tr>\n",
       "    <tr>\n",
       "      <th>Lattitude</th>\n",
       "      <td>float64</td>\n",
       "      <td>0</td>\n",
       "      <td>13403</td>\n",
       "      <td>float64</td>\n",
       "    </tr>\n",
       "    <tr>\n",
       "      <th>Longtitude</th>\n",
       "      <td>float64</td>\n",
       "      <td>0</td>\n",
       "      <td>14526</td>\n",
       "      <td>float64</td>\n",
       "    </tr>\n",
       "    <tr>\n",
       "      <th>Regionname</th>\n",
       "      <td>object</td>\n",
       "      <td>0</td>\n",
       "      <td>8</td>\n",
       "      <td>object</td>\n",
       "    </tr>\n",
       "    <tr>\n",
       "      <th>Propertycount</th>\n",
       "      <td>float64</td>\n",
       "      <td>0</td>\n",
       "      <td>342</td>\n",
       "      <td>float64</td>\n",
       "    </tr>\n",
       "    <tr>\n",
       "      <th>Type_numeric</th>\n",
       "      <td>int64</td>\n",
       "      <td>0</td>\n",
       "      <td>3</td>\n",
       "      <td>int64</td>\n",
       "    </tr>\n",
       "    <tr>\n",
       "      <th>Year_Sold</th>\n",
       "      <td>int32</td>\n",
       "      <td>0</td>\n",
       "      <td>3</td>\n",
       "      <td>int32</td>\n",
       "    </tr>\n",
       "    <tr>\n",
       "      <th>Month_Sold</th>\n",
       "      <td>int32</td>\n",
       "      <td>0</td>\n",
       "      <td>12</td>\n",
       "      <td>int32</td>\n",
       "    </tr>\n",
       "    <tr>\n",
       "      <th>BuildingArea_imputed</th>\n",
       "      <td>bool</td>\n",
       "      <td>0</td>\n",
       "      <td>1</td>\n",
       "      <td>bool</td>\n",
       "    </tr>\n",
       "    <tr>\n",
       "      <th>Landsize_imputed</th>\n",
       "      <td>bool</td>\n",
       "      <td>0</td>\n",
       "      <td>1</td>\n",
       "      <td>bool</td>\n",
       "    </tr>\n",
       "  </tbody>\n",
       "</table>\n",
       "</div>"
      ],
      "text/plain": [
       "                               dtype  missing  valores_unicos            tipo\n",
       "Suburb                        object        0             350          object\n",
       "Address                       object        0           34002          object\n",
       "Rooms                          int64        0              12           int64\n",
       "Type                          object        0               3          object\n",
       "Price                        float64     7608            2871         float64\n",
       "Method                        object        0               9          object\n",
       "SellerG                       object        0             388          object\n",
       "Date                  datetime64[ns]        0              78  datetime64[ns]\n",
       "Distance                     float64        0             215         float64\n",
       "Postcode                     float64        0             211         float64\n",
       "Bathroom                     float64        0              11         float64\n",
       "Car                          float64        0              13         float64\n",
       "Landsize                     float64        0            1716         float64\n",
       "BuildingArea                 float64        0            7435         float64\n",
       "YearBuilt                    float64        0             158         float64\n",
       "CouncilArea                   object        0              33          object\n",
       "Lattitude                    float64        0           13403         float64\n",
       "Longtitude                   float64        0           14526         float64\n",
       "Regionname                    object        0               8          object\n",
       "Propertycount                float64        0             342         float64\n",
       "Type_numeric                   int64        0               3           int64\n",
       "Year_Sold                      int32        0               3           int32\n",
       "Month_Sold                     int32        0              12           int32\n",
       "BuildingArea_imputed            bool        0               1            bool\n",
       "Landsize_imputed                bool        0               1            bool"
      ]
     },
     "execution_count": 34,
     "metadata": {},
     "output_type": "execute_result"
    }
   ],
   "source": [
    "metadados = pd.DataFrame(df.dtypes, columns=['dtype'])\n",
    "metadados['missing'] = df.isna().sum()\n",
    "metadados['valores_unicos'] = df.nunique() \n",
    "metadados['tipo'] = metadados['dtype'].astype(str) \n",
    "\n",
    "metadados\n"
   ]
  },
  {
   "cell_type": "markdown",
   "id": "c3540b17-b1c5-41d2-bfa8-26c24b22aafb",
   "metadata": {
    "jp-MarkdownHeadingCollapsed": true
   },
   "source": [
    "### Ajustes Adicionais"
   ]
  },
  {
   "cell_type": "markdown",
   "id": "a3aec496-30b5-4c26-a7fc-34d591196e23",
   "metadata": {},
   "source": [
    "* Adicionaremos as seguintes colunas para nos ajudar na regressão e no futuro:\n",
    "  * <span style=\"color: cadetblue;\">Preço por m²</span>\n",
    "  * <span style=\"color: darkseagreen;\">Densidade de quartos por m²</span>\n",
    "  * <span style=\"color: DarkOrange;\">Idade do imóvel</span>\n",
    "\n",
    "*Após a regressão ser feita, faremos o ajuste novamente para os valores de <span style=\"color: rosybrown;\">Price</span> atualizados*"
   ]
  },
  {
   "cell_type": "code",
   "execution_count": 35,
   "id": "2941b9ad-10bc-4dee-925c-4db65ddc4235",
   "metadata": {},
   "outputs": [
    {
     "data": {
      "text/plain": [
       "Index(['Suburb', 'Address', 'Rooms', 'Type', 'Price', 'Method', 'SellerG',\n",
       "       'Date', 'Distance', 'Postcode', 'Bathroom', 'Car', 'Landsize',\n",
       "       'BuildingArea', 'YearBuilt', 'CouncilArea', 'Lattitude', 'Longtitude',\n",
       "       'Regionname', 'Propertycount', 'Type_numeric', 'Year_Sold',\n",
       "       'Month_Sold', 'BuildingArea_imputed', 'Landsize_imputed',\n",
       "       'Price_per_sqm', 'Rooms_per_sqm', 'PropertyAge', 'Regionname_numeric'],\n",
       "      dtype='object')"
      ]
     },
     "execution_count": 35,
     "metadata": {},
     "output_type": "execute_result"
    }
   ],
   "source": [
    "# 1. Preço por m² (ajustado para BuildingArea > 0)\n",
    "df['Price_per_sqm'] = np.where(\n",
    "    df['BuildingArea'] > 0,\n",
    "    df['Price'] / df['BuildingArea'],\n",
    "    np.nan  \n",
    ")\n",
    "\n",
    "# 2. Densidade de quartos por m² (ajustado para BuildingArea > 0)\n",
    "df['Rooms_per_sqm'] = np.where(\n",
    "    df['BuildingArea'] > 0,\n",
    "    df['Rooms'] / df['BuildingArea'],\n",
    "    np.nan\n",
    ")\n",
    "\n",
    "# 3. Idade do imóvel (assumindo que YearBuilt está disponível)\n",
    "if 'YearBuilt' in df.columns:\n",
    "    df['PropertyAge'] = 2025 - df['YearBuilt']  # Atualize o ano conforme necessário\n",
    "\n",
    "df['Regionname_numeric'] = df['Regionname'].astype('category').cat.codes\n",
    "\n",
    "df.columns"
   ]
  },
  {
   "cell_type": "markdown",
   "id": "ef780479-f619-4a83-9e9b-14a0876e5c6c",
   "metadata": {},
   "source": [
    "### Price *(variavel Alvo)*"
   ]
  },
  {
   "cell_type": "markdown",
   "id": "63251bb0-5d2c-4aab-8caa-dd1aacaddf40",
   "metadata": {},
   "source": [
    "* **GridSearch + Regressão**"
   ]
  },
  {
   "cell_type": "code",
   "execution_count": 36,
   "id": "beb05549-93b1-4526-926e-c32f46476a2d",
   "metadata": {},
   "outputs": [
    {
     "name": "stdout",
     "output_type": "stream",
     "text": [
      "Fitting 3 folds for each of 24 candidates, totalling 72 fits\n",
      "\n",
      "=== MELHORES PARÂMETROS ===\n",
      "{'max_depth': 20, 'max_features': 'sqrt', 'min_samples_leaf': 1, 'n_estimators': 200}\n",
      "\n",
      "=== DESEMPENHO ===\n",
      "MAE: 30072.44\n",
      "R²: 0.97\n"
     ]
    },
    {
     "data": {
      "image/png": "[encoded data removed]",
      "text/plain": [
       "<Figure size 1500x400 with 3 Axes>"
      ]
     },
     "metadata": {},
     "output_type": "display_data"
    },
    {
     "name": "stdout",
     "output_type": "stream",
     "text": [
      "CPU times: total: 2min\n",
      "Wall time: 1min 54s\n"
     ]
    }
   ],
   "source": [
    "%%time\n",
    "\n",
    "# Features atualizadas (incluindo as novas)\n",
    "features = [\n",
    "    'Rooms', 'Bathroom', 'Landsize', 'BuildingArea', \n",
    "    'Type_numeric', 'Distance', 'Regionname_numeric',\n",
    "    'Price_per_sqm', 'Rooms_per_sqm'\n",
    "]\n",
    "\n",
    "# Remover linhas com valores infinitos ou NaN nas novas features\n",
    "df_clean = df.replace([np.inf, -np.inf], np.nan).dropna(subset=features + ['Price'])\n",
    "\n",
    "# Divisão - teste - treino\n",
    "X = df_clean[features]\n",
    "y = df_clean['Price']\n",
    "X_train, X_test, y_train, y_test = train_test_split(X, y, test_size=0.2, random_state=27)\n",
    "\n",
    "# Remover outliers (preços extremos)\n",
    "price_q99 = df['Price'].quantile(0.99)\n",
    "df_train = df_clean[df_clean['Price'] < price_q99]\n",
    "\n",
    "# Gridsearch\n",
    "param_grid = {\n",
    "    'n_estimators': [100, 200],\n",
    "    'max_depth': [10, 20, None],\n",
    "    'min_samples_leaf': [1, 2],\n",
    "    'max_features': ['sqrt', 'log2']\n",
    "}\n",
    "\n",
    "rf = RandomForestRegressor(random_state=27, n_jobs=-1)\n",
    "grid_search = GridSearchCV(rf, param_grid, cv=3, scoring='neg_mean_absolute_error', verbose=1)\n",
    "grid_search.fit(X_train, y_train)\n",
    "\n",
    "# Avaliação\n",
    "best_rf = grid_search.best_estimator_\n",
    "y_pred = best_rf.predict(X_test)\n",
    "\n",
    "print(\"\\n=== MELHORES PARÂMETROS ===\")\n",
    "print(grid_search.best_params_)\n",
    "print(\"\\n=== DESEMPENHO ===\")\n",
    "print(f\"MAE: {mean_absolute_error(y_test, y_pred):.2f}\")\n",
    "print(f\"R²: {r2_score(y_test, y_pred):.2f}\")\n",
    "\n",
    "\n",
    "\n",
    "# Gráficos para melhor entendimento\n",
    "plt.figure(figsize=(15, 4))\n",
    "\n",
    "# Relação entre Price_per_sqm e Price\n",
    "plt.subplot(1, 3, 1)\n",
    "plt.scatter(df_clean['Price_per_sqm'], df_clean['Price'], alpha=0.3)\n",
    "plt.xlabel('Preço por m²')\n",
    "plt.ylabel('Preço Total')\n",
    "plt.title('Relação Preço/m² vs Preço')\n",
    "\n",
    "# Distribuição de Rooms_per_sqm\n",
    "plt.subplot(1, 3, 2)\n",
    "plt.hist(df_clean['Rooms_per_sqm'].dropna(), bins=50)\n",
    "plt.xlabel('Quartos por m²')\n",
    "plt.title('Densidade de Quartos')\n",
    "\n",
    "# Importância das Features\n",
    "plt.subplot(1, 3, 3)\n",
    "importances = pd.Series(best_rf.feature_importances_, index=features)\n",
    "importances.sort_values().plot(kind='barh')\n",
    "plt.title('Importância das Features')\n",
    "\n",
    "plt.tight_layout()\n",
    "plt.show()"
   ]
  },
  {
   "cell_type": "markdown",
   "id": "91842cf5-a7fd-45c2-8e10-963bd96bb053",
   "metadata": {},
   "source": [
    "* Validação Cruzada"
   ]
  },
  {
   "cell_type": "code",
   "execution_count": 37,
   "id": "da4d0d4b-579d-4100-bcee-eef7bcf2306b",
   "metadata": {},
   "outputs": [
    {
     "name": "stdout",
     "output_type": "stream",
     "text": [
      "R² Validação Cruzada: 0.99 (±0.01)\n"
     ]
    }
   ],
   "source": [
    "from sklearn.model_selection import cross_val_score\n",
    "scores = cross_val_score(model, X, y, cv=5, scoring='r2')\n",
    "print(f\"R² Validação Cruzada: {scores.mean():.2f} (±{scores.std():.2f})\")"
   ]
  },
  {
   "cell_type": "markdown",
   "id": "0b6e22ce-5121-4228-bafb-ff540f412b83",
   "metadata": {},
   "source": [
    "* **Imputação dos valores no dataset**"
   ]
  },
  {
   "cell_type": "code",
   "execution_count": 38,
   "id": "4a9a25d5-6fda-46b7-a509-7463790c3b12",
   "metadata": {},
   "outputs": [
    {
     "name": "stdout",
     "output_type": "stream",
     "text": [
      "Valores ausentes ANTES:  7608\n",
      "Valores imputados: 7608\n",
      "\n",
      "Valores ausentes DEPOIS: 0\n",
      "\n",
      "Estatísticas atualizadas:\n",
      "count    3.485000e+04\n",
      "mean     1.067347e+06\n",
      "std      6.167362e+05\n",
      "min      8.500000e+04\n",
      "25%      6.500000e+05\n",
      "50%      9.068096e+05\n",
      "75%      1.315046e+06\n",
      "max      1.120000e+07\n",
      "Name: Price, dtype: float64\n"
     ]
    },
    {
     "data": {
      "text/plain": [
       "0"
      ]
     },
     "execution_count": 38,
     "metadata": {},
     "output_type": "execute_result"
    }
   ],
   "source": [
    "# Verificação Inicial\n",
    "print(\"Valores ausentes ANTES: \",df['Price'].isna().sum())\n",
    "\n",
    "\n",
    "# Identificar linhas com Price ausente (mesmo que algumas features estejam NaN)\n",
    "missing_price_mask = df['Price'].isna()\n",
    "\n",
    "if missing_price_mask.any():\n",
    "    df_filled = df[features].copy()\n",
    "    for col in features:\n",
    "        if df_filled[col].isna().any():\n",
    "            df_filled[col] = df_filled[col].fillna(df_filled[col].median())\n",
    "    \n",
    "   \n",
    "    # Fazer previsões para TODOS os Price ausentes\n",
    "    df.loc[missing_price_mask, 'Price'] = best_rf.predict(df_filled[missing_price_mask])\n",
    "    \n",
    "   \n",
    "    # Flag de imputação\n",
    "    df['Price_imputed'] = missing_price_mask\n",
    "    \n",
    "    print(\"Valores imputados:\", missing_price_mask.sum())\n",
    "else:\n",
    "    print(\"Nenhum valor ausente para imputar.\")\n",
    "\n",
    "# Verificação Final\n",
    "print(f\"\\nValores ausentes DEPOIS: {df['Price'].isna().sum()}\")\n",
    "print(\"\\nEstatísticas atualizadas:\")\n",
    "print(df['Price'].describe())\n",
    "df['Price'].isna().sum()"
   ]
  },
  {
   "cell_type": "markdown",
   "id": "fd78abc4-f237-4163-b47f-9e69ee387146",
   "metadata": {},
   "source": [
    "* Refazendo as variaveis:\n",
    "  * <span style=\"color: cadetblue;\">Preço por m²</span>\n",
    "  * <span style=\"color: darkseagreen;\">Densidade de quartos por m²</span>\n",
    "  * <span style=\"color: DarkOrange;\">Idade do imóvel</span>\n",
    "\n",
    "*Agora com <span style=\"color: rosybrown;\">Price</span> sem valores ausentes*"
   ]
  },
  {
   "cell_type": "code",
   "execution_count": 39,
   "id": "4d3530f0-4f14-4bd4-8ba1-3b5f4497ac80",
   "metadata": {},
   "outputs": [
    {
     "data": {
      "text/plain": [
       "Index(['Suburb', 'Address', 'Rooms', 'Type', 'Price', 'Method', 'SellerG',\n",
       "       'Date', 'Distance', 'Postcode', 'Bathroom', 'Car', 'Landsize',\n",
       "       'BuildingArea', 'YearBuilt', 'CouncilArea', 'Lattitude', 'Longtitude',\n",
       "       'Regionname', 'Propertycount', 'Type_numeric', 'Year_Sold',\n",
       "       'Month_Sold', 'BuildingArea_imputed', 'Landsize_imputed',\n",
       "       'Price_per_sqm', 'Rooms_per_sqm', 'PropertyAge', 'Regionname_numeric',\n",
       "       'Price_imputed'],\n",
       "      dtype='object')"
      ]
     },
     "execution_count": 39,
     "metadata": {},
     "output_type": "execute_result"
    }
   ],
   "source": [
    "# Refazendo as variaveis, agora com Price Correto\n",
    "df['BuildingArea'] = df.groupby('Type')['BuildingArea'].transform(\n",
    "    lambda x: x.fillna(x.median())\n",
    ")\n",
    "\n",
    "# Substituir BuildingArea = 0 pela mediana (para evitar divisão por zero)\n",
    "df['BuildingArea'] = np.where(\n",
    "    df['BuildingArea'] == 0,\n",
    "    df.groupby('Type')['BuildingArea'].transform('median'),\n",
    "    df['BuildingArea']\n",
    ")\n",
    "\n",
    "\n",
    "\n",
    "\n",
    "# Preço por m² (agora sem NaN, pois BuildingArea está tratado)\n",
    "df['Price_per_sqm'] = df['Price'] / df['BuildingArea']\n",
    "\n",
    "# Densidade de quartos por m²\n",
    "df['Rooms_per_sqm'] = df['Rooms'] / df['BuildingArea']\n",
    "\n",
    "# Idade do imóvel (se YearBuilt existir)\n",
    "if 'YearBuilt' in df.columns:\n",
    "    df['PropertyAge'] = 2025 - df['YearBuilt']  # Ajuste o ano atual\n",
    "    \n",
    "\n",
    "df['Regionname_numeric'] = df['Regionname'].astype('category').cat.codes\n",
    "\n",
    "df.columns"
   ]
  },
  {
   "cell_type": "markdown",
   "id": "60dec48c-1fe7-4174-83dd-fff060beef37",
   "metadata": {},
   "source": [
    "# Avaliações pós tratamento de dados"
   ]
  },
  {
   "cell_type": "markdown",
   "id": "8a6b8e26-bdf3-456c-9ea6-1b1c289b81b3",
   "metadata": {},
   "source": [
    "## Pontos Fortes"
   ]
  },
  {
   "cell_type": "markdown",
   "id": "b1a891d7-de55-4d52-b50d-6bb18f6dc551",
   "metadata": {},
   "source": [
    "* Altíssima Precisão\n",
    "\n",
    "    * <span style=\"color: cadetblue;\">R²</span> de <span style=\"color: cadetblue;\">0.97/0.99</span> está bem acima do baseline **(0.90)**, indicando que o modelo captura quase toda a complexidade do mercado.\n",
    "    \n",
    "    * <span style=\"color: darkseagreen;\">MAE</span> baixo em relação à escala de preços (apenas ~2.7% de erro médio).\n",
    "\n",
    "* Parâmetros Otimizados\n",
    "\n",
    "    * <span style=\"color: cadetblue;\">max_depth=20</span>: Profundidade adequada para capturar relações não-lineares sem overfitting.\n",
    "    \n",
    "    * <span style=\"color: darkseagreen;\">n_estimators=200</span>: Número suficiente de árvores para estabilizar as previsões.\n",
    "\n",
    "* Robustez\n",
    "\n",
    "    * Baixo <span style=\"color: cadetblue;\">desvio padrão</span> na <span style=\"color: cadetblue;\">validação cruzada</span> **(±0.01)** mostra que o desempenho é consistente em diferentes subsets de dados."
   ]
  },
  {
   "cell_type": "markdown",
   "id": "c4a060d4-2ebb-41b3-b6e2-d40a34cc70b8",
   "metadata": {},
   "source": [
    "## Possíveis Riscos e Verificações"
   ]
  },
  {
   "cell_type": "markdown",
   "id": "3473c1b8-f21f-46dc-9084-4c3dc499b137",
   "metadata": {},
   "source": [
    "* Overfitting?\n",
    "\n",
    "    * Apesar do <span style=\"color: cadetblue;\">R²</span>, o <span style=\"color: darkseagreen;\">MAE</span> baixo e a <span style=\"color: DarkOrange;\">validação cruzada</span> consistente descartam **overfitting**.\n",
    "\n",
    "* Impacto de Outliers\n",
    "\n",
    "    * O <span style=\"color: cadetblue;\">MAE</span> pode ser influenciado por imóveis de luxo."
   ]
  },
  {
   "cell_type": "markdown",
   "id": "f3145f91-c045-4598-b777-38eec1a3903a",
   "metadata": {},
   "source": [
    "## Matriz de Correlação e Metadados (atualizados)"
   ]
  },
  {
   "cell_type": "code",
   "execution_count": 40,
   "id": "b15d1b1d-7e29-4d51-bf07-95c1d28d2681",
   "metadata": {
    "scrolled": true
   },
   "outputs": [
    {
     "data": {
      "image/png": "[encoded data removed]",
      "text/plain": [
       "<Figure size 1400x1200 with 2 Axes>"
      ]
     },
     "metadata": {},
     "output_type": "display_data"
    },
    {
     "data": {
      "text/html": [
       "<div>\n",
       "<style scoped>\n",
       "    .dataframe tbody tr th:only-of-type {\n",
       "        vertical-align: middle;\n",
       "    }\n",
       "\n",
       "    .dataframe tbody tr th {\n",
       "        vertical-align: top;\n",
       "    }\n",
       "\n",
       "    .dataframe thead th {\n",
       "        text-align: right;\n",
       "    }\n",
       "</style>\n",
       "<table border=\"1\" class=\"dataframe\">\n",
       "  <thead>\n",
       "    <tr style=\"text-align: right;\">\n",
       "      <th></th>\n",
       "      <th>dtype</th>\n",
       "      <th>missing</th>\n",
       "      <th>valores_unicos</th>\n",
       "      <th>tipo</th>\n",
       "    </tr>\n",
       "  </thead>\n",
       "  <tbody>\n",
       "    <tr>\n",
       "      <th>Suburb</th>\n",
       "      <td>object</td>\n",
       "      <td>0</td>\n",
       "      <td>350</td>\n",
       "      <td>object</td>\n",
       "    </tr>\n",
       "    <tr>\n",
       "      <th>Address</th>\n",
       "      <td>object</td>\n",
       "      <td>0</td>\n",
       "      <td>34002</td>\n",
       "      <td>object</td>\n",
       "    </tr>\n",
       "    <tr>\n",
       "      <th>Rooms</th>\n",
       "      <td>int64</td>\n",
       "      <td>0</td>\n",
       "      <td>12</td>\n",
       "      <td>int64</td>\n",
       "    </tr>\n",
       "    <tr>\n",
       "      <th>Type</th>\n",
       "      <td>object</td>\n",
       "      <td>0</td>\n",
       "      <td>3</td>\n",
       "      <td>object</td>\n",
       "    </tr>\n",
       "    <tr>\n",
       "      <th>Price</th>\n",
       "      <td>float64</td>\n",
       "      <td>0</td>\n",
       "      <td>9330</td>\n",
       "      <td>float64</td>\n",
       "    </tr>\n",
       "    <tr>\n",
       "      <th>Method</th>\n",
       "      <td>object</td>\n",
       "      <td>0</td>\n",
       "      <td>9</td>\n",
       "      <td>object</td>\n",
       "    </tr>\n",
       "    <tr>\n",
       "      <th>SellerG</th>\n",
       "      <td>object</td>\n",
       "      <td>0</td>\n",
       "      <td>388</td>\n",
       "      <td>object</td>\n",
       "    </tr>\n",
       "    <tr>\n",
       "      <th>Date</th>\n",
       "      <td>datetime64[ns]</td>\n",
       "      <td>0</td>\n",
       "      <td>78</td>\n",
       "      <td>datetime64[ns]</td>\n",
       "    </tr>\n",
       "    <tr>\n",
       "      <th>Distance</th>\n",
       "      <td>float64</td>\n",
       "      <td>0</td>\n",
       "      <td>215</td>\n",
       "      <td>float64</td>\n",
       "    </tr>\n",
       "    <tr>\n",
       "      <th>Postcode</th>\n",
       "      <td>float64</td>\n",
       "      <td>0</td>\n",
       "      <td>211</td>\n",
       "      <td>float64</td>\n",
       "    </tr>\n",
       "    <tr>\n",
       "      <th>Bathroom</th>\n",
       "      <td>float64</td>\n",
       "      <td>0</td>\n",
       "      <td>11</td>\n",
       "      <td>float64</td>\n",
       "    </tr>\n",
       "    <tr>\n",
       "      <th>Car</th>\n",
       "      <td>float64</td>\n",
       "      <td>0</td>\n",
       "      <td>13</td>\n",
       "      <td>float64</td>\n",
       "    </tr>\n",
       "    <tr>\n",
       "      <th>Landsize</th>\n",
       "      <td>float64</td>\n",
       "      <td>0</td>\n",
       "      <td>1716</td>\n",
       "      <td>float64</td>\n",
       "    </tr>\n",
       "    <tr>\n",
       "      <th>BuildingArea</th>\n",
       "      <td>float64</td>\n",
       "      <td>0</td>\n",
       "      <td>7434</td>\n",
       "      <td>float64</td>\n",
       "    </tr>\n",
       "    <tr>\n",
       "      <th>YearBuilt</th>\n",
       "      <td>float64</td>\n",
       "      <td>0</td>\n",
       "      <td>158</td>\n",
       "      <td>float64</td>\n",
       "    </tr>\n",
       "    <tr>\n",
       "      <th>CouncilArea</th>\n",
       "      <td>object</td>\n",
       "      <td>0</td>\n",
       "      <td>33</td>\n",
       "      <td>object</td>\n",
       "    </tr>\n",
       "    <tr>\n",
       "      <th>Lattitude</th>\n",
       "      <td>float64</td>\n",
       "      <td>0</td>\n",
       "      <td>13403</td>\n",
       "      <td>float64</td>\n",
       "    </tr>\n",
       "    <tr>\n",
       "      <th>Longtitude</th>\n",
       "      <td>float64</td>\n",
       "      <td>0</td>\n",
       "      <td>14526</td>\n",
       "      <td>float64</td>\n",
       "    </tr>\n",
       "    <tr>\n",
       "      <th>Regionname</th>\n",
       "      <td>object</td>\n",
       "      <td>0</td>\n",
       "      <td>8</td>\n",
       "      <td>object</td>\n",
       "    </tr>\n",
       "    <tr>\n",
       "      <th>Propertycount</th>\n",
       "      <td>float64</td>\n",
       "      <td>0</td>\n",
       "      <td>342</td>\n",
       "      <td>float64</td>\n",
       "    </tr>\n",
       "    <tr>\n",
       "      <th>Type_numeric</th>\n",
       "      <td>int64</td>\n",
       "      <td>0</td>\n",
       "      <td>3</td>\n",
       "      <td>int64</td>\n",
       "    </tr>\n",
       "    <tr>\n",
       "      <th>Year_Sold</th>\n",
       "      <td>int32</td>\n",
       "      <td>0</td>\n",
       "      <td>3</td>\n",
       "      <td>int32</td>\n",
       "    </tr>\n",
       "    <tr>\n",
       "      <th>Month_Sold</th>\n",
       "      <td>int32</td>\n",
       "      <td>0</td>\n",
       "      <td>12</td>\n",
       "      <td>int32</td>\n",
       "    </tr>\n",
       "    <tr>\n",
       "      <th>BuildingArea_imputed</th>\n",
       "      <td>bool</td>\n",
       "      <td>0</td>\n",
       "      <td>1</td>\n",
       "      <td>bool</td>\n",
       "    </tr>\n",
       "    <tr>\n",
       "      <th>Landsize_imputed</th>\n",
       "      <td>bool</td>\n",
       "      <td>0</td>\n",
       "      <td>1</td>\n",
       "      <td>bool</td>\n",
       "    </tr>\n",
       "    <tr>\n",
       "      <th>Price_per_sqm</th>\n",
       "      <td>float64</td>\n",
       "      <td>0</td>\n",
       "      <td>30827</td>\n",
       "      <td>float64</td>\n",
       "    </tr>\n",
       "    <tr>\n",
       "      <th>Rooms_per_sqm</th>\n",
       "      <td>float64</td>\n",
       "      <td>0</td>\n",
       "      <td>7787</td>\n",
       "      <td>float64</td>\n",
       "    </tr>\n",
       "    <tr>\n",
       "      <th>PropertyAge</th>\n",
       "      <td>float64</td>\n",
       "      <td>0</td>\n",
       "      <td>158</td>\n",
       "      <td>float64</td>\n",
       "    </tr>\n",
       "    <tr>\n",
       "      <th>Regionname_numeric</th>\n",
       "      <td>int8</td>\n",
       "      <td>0</td>\n",
       "      <td>8</td>\n",
       "      <td>int8</td>\n",
       "    </tr>\n",
       "    <tr>\n",
       "      <th>Price_imputed</th>\n",
       "      <td>bool</td>\n",
       "      <td>0</td>\n",
       "      <td>2</td>\n",
       "      <td>bool</td>\n",
       "    </tr>\n",
       "  </tbody>\n",
       "</table>\n",
       "</div>"
      ],
      "text/plain": [
       "                               dtype  missing  valores_unicos            tipo\n",
       "Suburb                        object        0             350          object\n",
       "Address                       object        0           34002          object\n",
       "Rooms                          int64        0              12           int64\n",
       "Type                          object        0               3          object\n",
       "Price                        float64        0            9330         float64\n",
       "Method                        object        0               9          object\n",
       "SellerG                       object        0             388          object\n",
       "Date                  datetime64[ns]        0              78  datetime64[ns]\n",
       "Distance                     float64        0             215         float64\n",
       "Postcode                     float64        0             211         float64\n",
       "Bathroom                     float64        0              11         float64\n",
       "Car                          float64        0              13         float64\n",
       "Landsize                     float64        0            1716         float64\n",
       "BuildingArea                 float64        0            7434         float64\n",
       "YearBuilt                    float64        0             158         float64\n",
       "CouncilArea                   object        0              33          object\n",
       "Lattitude                    float64        0           13403         float64\n",
       "Longtitude                   float64        0           14526         float64\n",
       "Regionname                    object        0               8          object\n",
       "Propertycount                float64        0             342         float64\n",
       "Type_numeric                   int64        0               3           int64\n",
       "Year_Sold                      int32        0               3           int32\n",
       "Month_Sold                     int32        0              12           int32\n",
       "BuildingArea_imputed            bool        0               1            bool\n",
       "Landsize_imputed                bool        0               1            bool\n",
       "Price_per_sqm                float64        0           30827         float64\n",
       "Rooms_per_sqm                float64        0            7787         float64\n",
       "PropertyAge                  float64        0             158         float64\n",
       "Regionname_numeric              int8        0               8            int8\n",
       "Price_imputed                   bool        0               2            bool"
      ]
     },
     "execution_count": 40,
     "metadata": {},
     "output_type": "execute_result"
    }
   ],
   "source": [
    "# Calculando a matriz de correlação\n",
    "\n",
    "df_numeric = df[['Rooms', 'Price', 'Distance', 'Postcode', 'Bathroom', 'Car', 'Landsize', 'BuildingArea', 'YearBuilt','Type_numeric','Regionname_numeric',\n",
    "    'Price_per_sqm', 'Rooms_per_sqm', 'Lattitude', 'Longtitude', 'Propertycount']]\n",
    "\n",
    "correlation_matrix = df_numeric.corr()\n",
    "\n",
    "\n",
    "plt.figure(figsize=(14, 12))\n",
    "heatmap = sns.heatmap(\n",
    "    correlation_matrix,\n",
    "    cmap='coolwarm',\n",
    "    annot=True,\n",
    "    fmt='.2f',\n",
    "    linewidths=0.5,\n",
    "    square=True,\n",
    "    cbar_kws={\"shrink\": .8},\n",
    "    annot_kws={\"size\": 9, \"color\": 'black'} \n",
    ")\n",
    "\n",
    "\n",
    "# Heatmap\n",
    "\n",
    "plt.xticks(rotation=45, ha='right', fontsize=10)\n",
    "plt.yticks(rotation=0, fontsize=10)\n",
    "plt.title('Matriz de Correlação', fontsize=16)\n",
    "plt.tight_layout()\n",
    "plt.show()\n",
    "\n",
    "\n",
    "\n",
    "# Metadados\n",
    "\n",
    "metadados = pd.DataFrame(df.dtypes, columns=['dtype'])\n",
    "metadados['missing'] = df.isna().sum()\n",
    "metadados['valores_unicos'] = df.nunique() \n",
    "metadados['tipo'] = metadados['dtype'].astype(str) \n",
    "\n",
    "metadados"
   ]
  },
  {
   "cell_type": "markdown",
   "id": "4b213230-2afa-4b02-bee2-2e957bcc781d",
   "metadata": {},
   "source": [
    "* Tanto a <span style=\"color: cadetblue;\">Matriz de Correlação</span> quanto o <span style=\"color: darkseagreen;\">metadados</span> apresentam agora muito mais variaveis e estão muito mais robustos.\n",
    "    * A <span style=\"color: cadetblue;\">Matriz de Correlação</span> já apresenta correlações muito mais fortes.\n",
    "    * O <span style=\"color: darkseagreen;\">metadados</span> já não apresenta valores missings e possui muito mais opções para trabalhar.\n",
    "\n",
    "---\n",
    "* Salvar o dataframe, por garantia."
   ]
  },
  {
   "cell_type": "code",
   "execution_count": 41,
   "id": "6a9894bb-a2b0-471b-bfd9-1596c88f2216",
   "metadata": {},
   "outputs": [],
   "source": [
    "df.to_csv('./data/dados_com_precos_imputados.csv', index=False)"
   ]
  },
  {
   "cell_type": "markdown",
   "id": "1a286e0f-35cf-4fa4-868e-1e76e38b04e8",
   "metadata": {},
   "source": [
    "# Streamlit e aplicações"
   ]
  },
  {
   "cell_type": "markdown",
   "id": "d3bf6d49-0e3d-49b0-8d4c-db1e6522eaad",
   "metadata": {},
   "source": [
    "## Criação de novas colunas\n"
   ]
  },
  {
   "cell_type": "markdown",
   "id": "affe822a-9bc2-4450-8a13-8fd7b9d08ee9",
   "metadata": {},
   "source": [
    "* Para a aplicação **streamlit** criaremos novas colunas, sendo elas:\n",
    "\n",
    "    * <span style=\"color: cadetblue;\">**Underpriced**</span>\n",
    "    * <span style=\"color: darkseagreen;\">**Overpriced**</span>\n",
    "\n",
    "Essas colunas servirão para ver se quando o imóvel foi comprado se foi pago muito mais caro ou muito mais barato do que a média da região baseado nas características do imóvel\n",
    "\n",
    "* Categorizaremos as seguintes variáveis:\n",
    "\n",
    "    * <span style=\"color: cadetblue;\">**PropertyAge**</span>\n",
    "    * <span style=\"color: darkseagreen;\">**Distance**</span>\n",
    "\n",
    "Categorizar as variáveis enriquecerá o **dataset**"
   ]
  },
  {
   "cell_type": "markdown",
   "id": "9e39839a-9c74-45b8-8e47-fc489df76708",
   "metadata": {},
   "source": [
    "## Regressão"
   ]
  },
  {
   "cell_type": "code",
   "execution_count": 42,
   "id": "96976fa6-b56a-46c7-a87a-854d586cc319",
   "metadata": {},
   "outputs": [],
   "source": [
    "from sklearn.ensemble import GradientBoostingRegressor\n",
    "from sklearn.model_selection import train_test_split\n",
    "\n",
    "# Features para cálculo do preço esperado\n",
    "features_expected_price = [\n",
    "    'Rooms', 'Bathroom', 'Car', 'Distance', \n",
    "    'PropertyAge', 'Type_numeric', 'Regionname_numeric',\n",
    "    'Landsize', 'BuildingArea'\n",
    "]\n",
    "\n",
    "# Filtrar dados completos\n",
    "df_clean = df.dropna(subset=features_expected_price + ['Price'])\n",
    "\n",
    "# Modelo auxiliar para prever o preço \"justo\"\n",
    "X = df_clean[features_expected_price]\n",
    "y = df_clean['Price']\n",
    "X_train, X_test, y_train, y_test = train_test_split(X, y, test_size=0.2, random_state=27)\n",
    "\n",
    "model_expected_price = GradientBoostingRegressor(random_state=27)\n",
    "model_expected_price.fit(X_train, y_train)\n",
    "\n",
    "# Adicionar preço esperado ao DataFrame\n",
    "df['expected_price'] = model_expected_price.predict(df[features_expected_price])"
   ]
  },
  {
   "cell_type": "code",
   "execution_count": 43,
   "id": "aa7ce99d-ca01-49d8-bbd9-b2adc19d87f0",
   "metadata": {},
   "outputs": [],
   "source": [
    "# Calcular média e desvio padrão do Price_per_sqm por região\n",
    "regional_stats = df.groupby('Regionname')['Price_per_sqm'].agg(['mean', 'std']).reset_index()\n",
    "regional_stats.columns = ['Regionname', 'regional_mean_ppsqm', 'regional_std_ppsqm']\n",
    "\n",
    "# Merge com o DataFrame principal\n",
    "df = pd.merge(df, regional_stats, on='Regionname', how='left')\n",
    "\n",
    "# Definir limiares (usando 1 desvio padrão como margem)\n",
    "df['price_lower_bound'] = df['regional_mean_ppsqm'] - df['regional_std_ppsqm']\n",
    "df['price_upper_bound'] = df['regional_mean_ppsqm'] + df['regional_std_ppsqm']"
   ]
  },
  {
   "cell_type": "code",
   "execution_count": 44,
   "id": "0db9cebe-6ec2-4ce0-afbd-dc628d3c7126",
   "metadata": {},
   "outputs": [],
   "source": [
    "# Underpriced: \n",
    "df['underpriced'] = (df['Price'] < 0.9 * df['expected_price']) & \\\n",
    "                    (df['Price_per_sqm'] < df['price_lower_bound'])\n",
    "\n",
    "# Overpriced: l\n",
    "df['overpriced'] = (df['Price'] > 1.1 * df['expected_price']) & \\\n",
    "                   (df['Price_per_sqm'] > df['price_upper_bound'])"
   ]
  },
  {
   "cell_type": "markdown",
   "id": "cf45e180-5cce-44fc-868f-9386b830150b",
   "metadata": {
    "jp-MarkdownHeadingCollapsed": true
   },
   "source": [
    "## Novas colunas categorizadas"
   ]
  },
  {
   "cell_type": "code",
   "execution_count": 45,
   "id": "6d917598-0c66-42cc-95b6-dc73149703f4",
   "metadata": {},
   "outputs": [],
   "source": [
    "# 1. Densidade de comodidades\n",
    "df['rooms_bath_ratio'] = df['Rooms'] / (df['Bathroom'] + 0.01)  # +0.01 para evitar divisão por zero\n",
    "\n",
    "# 2. Idade do imóvel categorizada\n",
    "df['AgeCategory'] = pd.cut(df['PropertyAge'], \n",
    "                           bins=[0, 5, 10, 20, 50, 100, np.inf],\n",
    "                           labels=['Novo', '5-10 anos', '10-20 anos', '20-50 anos', '50-100 anos', 'Centenário'])\n",
    "\n",
    "# 3. Distância do CBD categorizada\n",
    "df['DistanceCategory'] = pd.cut(df['Distance'],\n",
    "                                bins=[0, 5, 10, 15, 20, np.inf],\n",
    "                                labels=['CBD', 'Próximo', 'Médio', 'Distante', 'Afastado'])"
   ]
  },
  {
   "cell_type": "markdown",
   "id": "d54ed8a2-efdd-440f-8965-d62ba4024e2b",
   "metadata": {
    "jp-MarkdownHeadingCollapsed": true
   },
   "source": [
    "## Verificação dos resultados"
   ]
  },
  {
   "cell_type": "code",
   "execution_count": 46,
   "id": "294ace91-6919-4cd2-9e76-ab8746ab12ac",
   "metadata": {},
   "outputs": [
    {
     "name": "stdout",
     "output_type": "stream",
     "text": [
      "\n",
      "📊 Resumo de Oportunidades:\n",
      "- Imóveis subvalorizados (underpriced): 60\n",
      "- Imóveis supervalorizados (overpriced): 165\n"
     ]
    }
   ],
   "source": [
    "# Verificação\n",
    "\n",
    "print(\"\\n📊 Resumo de Oportunidades:\")\n",
    "print(f\"- Imóveis subvalorizados (underpriced): {df['underpriced'].sum()}\")\n",
    "print(f\"- Imóveis supervalorizados (overpriced): {df['overpriced'].sum()}\")"
   ]
  },
  {
   "cell_type": "markdown",
   "id": "78265345-ac5d-45aa-be0d-5283fd797afd",
   "metadata": {},
   "source": [
    "## Organizar o Dataframe"
   ]
  },
  {
   "cell_type": "code",
   "execution_count": 47,
   "id": "ab1b2eb4-4eda-4bd4-a372-2370cbaf1f0e",
   "metadata": {},
   "outputs": [
    {
     "data": {
      "text/plain": [
       "Index(['Suburb', 'Address', 'Rooms', 'Type', 'Price', 'Method', 'SellerG',\n",
       "       'Date', 'Distance', 'Postcode', 'Bathroom', 'Car', 'Landsize',\n",
       "       'BuildingArea', 'YearBuilt', 'CouncilArea', 'Lattitude', 'Longtitude',\n",
       "       'Regionname', 'Propertycount', 'Type_numeric', 'Year_Sold',\n",
       "       'Month_Sold', 'BuildingArea_imputed', 'Landsize_imputed',\n",
       "       'Price_per_sqm', 'Rooms_per_sqm', 'PropertyAge', 'Regionname_numeric',\n",
       "       'Price_imputed', 'expected_price', 'regional_mean_ppsqm',\n",
       "       'regional_std_ppsqm', 'price_lower_bound', 'price_upper_bound',\n",
       "       'underpriced', 'overpriced', 'rooms_bath_ratio', 'AgeCategory',\n",
       "       'DistanceCategory'],\n",
       "      dtype='object')"
      ]
     },
     "execution_count": 47,
     "metadata": {},
     "output_type": "execute_result"
    }
   ],
   "source": [
    "df.columns"
   ]
  },
  {
   "cell_type": "code",
   "execution_count": 48,
   "id": "873ca971-e697-4af6-81ea-8d8031d0fd12",
   "metadata": {},
   "outputs": [],
   "source": [
    "# Organizar as colunas\n",
    "\n",
    "column_groups = {\n",
    "    # Identificação e Localização\n",
    "    'ID': ['Suburb', 'Address', 'Postcode', 'Regionname', 'CouncilArea', \n",
    "           'Lattitude', 'Longtitude', 'Propertycount', 'Distance', 'DistanceCategory'],\n",
    "    \n",
    "    # Características Físicas\n",
    "    'Property_Features': ['Type', 'Type_numeric', 'Rooms', 'Bathroom', 'Car', \n",
    "                         'Landsize', 'Landsize_imputed', 'BuildingArea', 'BuildingArea_imputed',\n",
    "                         'YearBuilt', 'PropertyAge', 'AgeCategory', 'rooms_bath_ratio'],\n",
    "    \n",
    "    # Transação e Preço\n",
    "    'Transaction': ['Price', 'Price_imputed', 'Method', 'SellerG', 'Date', \n",
    "                   'Year_Sold', 'Month_Sold'],\n",
    "    \n",
    "    # Análise e Modelagem\n",
    "    'Analysis': ['Price_per_sqm', 'expected_price', 'regional_mean_ppsqm',\n",
    "                'regional_std_ppsqm', 'price_lower_bound', 'price_upper_bound',\n",
    "                'underpriced', 'overpriced', 'Rooms_per_sqm'],\n",
    "    \n",
    "    # Variáveis Técnicas (opcional)\n",
    "    'Technical': ['Regionname_numeric']\n",
    "}\n",
    "\n",
    "# Concatenar as colunas\n",
    "new_column_order = []\n",
    "for group in column_groups.values():\n",
    "    new_column_order.extend(group)\n",
    "\n",
    "\n",
    "# Reordenar DataFrame\n",
    "df_organized = df[new_column_order]\n",
    "\n",
    "# ========== 2. SALVAR DATAFRAME ==========\n",
    "import os\n",
    "output_dir = \"data_processed\"\n",
    "os.makedirs(output_dir, exist_ok=True)"
   ]
  },
  {
   "cell_type": "code",
   "execution_count": 49,
   "id": "543b793d-3dfc-48d0-8def-2473bc59df49",
   "metadata": {},
   "outputs": [
    {
     "data": {
      "text/html": [
       "<div>\n",
       "<style scoped>\n",
       "    .dataframe tbody tr th:only-of-type {\n",
       "        vertical-align: middle;\n",
       "    }\n",
       "\n",
       "    .dataframe tbody tr th {\n",
       "        vertical-align: top;\n",
       "    }\n",
       "\n",
       "    .dataframe thead th {\n",
       "        text-align: right;\n",
       "    }\n",
       "</style>\n",
       "<table border=\"1\" class=\"dataframe\">\n",
       "  <thead>\n",
       "    <tr style=\"text-align: right;\">\n",
       "      <th></th>\n",
       "      <th>Suburb</th>\n",
       "      <th>Address</th>\n",
       "      <th>Postcode</th>\n",
       "      <th>Regionname</th>\n",
       "      <th>CouncilArea</th>\n",
       "      <th>Lattitude</th>\n",
       "      <th>Longtitude</th>\n",
       "      <th>Propertycount</th>\n",
       "      <th>Distance</th>\n",
       "      <th>DistanceCategory</th>\n",
       "      <th>Type</th>\n",
       "      <th>Type_numeric</th>\n",
       "      <th>Rooms</th>\n",
       "      <th>Bathroom</th>\n",
       "      <th>Car</th>\n",
       "      <th>Landsize</th>\n",
       "      <th>Landsize_imputed</th>\n",
       "      <th>BuildingArea</th>\n",
       "      <th>BuildingArea_imputed</th>\n",
       "      <th>YearBuilt</th>\n",
       "      <th>PropertyAge</th>\n",
       "      <th>AgeCategory</th>\n",
       "      <th>rooms_bath_ratio</th>\n",
       "      <th>Price</th>\n",
       "      <th>Price_imputed</th>\n",
       "      <th>Method</th>\n",
       "      <th>SellerG</th>\n",
       "      <th>Date</th>\n",
       "      <th>Year_Sold</th>\n",
       "      <th>Month_Sold</th>\n",
       "      <th>Price_per_sqm</th>\n",
       "      <th>expected_price</th>\n",
       "      <th>regional_mean_ppsqm</th>\n",
       "      <th>regional_std_ppsqm</th>\n",
       "      <th>price_lower_bound</th>\n",
       "      <th>price_upper_bound</th>\n",
       "      <th>underpriced</th>\n",
       "      <th>overpriced</th>\n",
       "      <th>Rooms_per_sqm</th>\n",
       "      <th>Regionname_numeric</th>\n",
       "    </tr>\n",
       "  </thead>\n",
       "  <tbody>\n",
       "    <tr>\n",
       "      <th>0</th>\n",
       "      <td>Abbotsford</td>\n",
       "      <td>68 Studley St</td>\n",
       "      <td>3067.0</td>\n",
       "      <td>Northern Metropolitan</td>\n",
       "      <td>Yarra City Council</td>\n",
       "      <td>-37.8014</td>\n",
       "      <td>144.9958</td>\n",
       "      <td>4019.0</td>\n",
       "      <td>2.5</td>\n",
       "      <td>CBD</td>\n",
       "      <td>h</td>\n",
       "      <td>0</td>\n",
       "      <td>2</td>\n",
       "      <td>1.0</td>\n",
       "      <td>1.0</td>\n",
       "      <td>126.0</td>\n",
       "      <td>False</td>\n",
       "      <td>78.659733</td>\n",
       "      <td>False</td>\n",
       "      <td>1970.0</td>\n",
       "      <td>55.0</td>\n",
       "      <td>50-100 anos</td>\n",
       "      <td>1.980198</td>\n",
       "      <td>5.838762e+05</td>\n",
       "      <td>True</td>\n",
       "      <td>SS</td>\n",
       "      <td>Jellis</td>\n",
       "      <td>2016-09-03</td>\n",
       "      <td>2016</td>\n",
       "      <td>9</td>\n",
       "      <td>7422.809934</td>\n",
       "      <td>9.347520e+05</td>\n",
       "      <td>8721.041474</td>\n",
       "      <td>26130.894495</td>\n",
       "      <td>-17409.853021</td>\n",
       "      <td>34851.935969</td>\n",
       "      <td>False</td>\n",
       "      <td>False</td>\n",
       "      <td>0.025426</td>\n",
       "      <td>2</td>\n",
       "    </tr>\n",
       "    <tr>\n",
       "      <th>1</th>\n",
       "      <td>Abbotsford</td>\n",
       "      <td>85 Turner St</td>\n",
       "      <td>3067.0</td>\n",
       "      <td>Northern Metropolitan</td>\n",
       "      <td>Yarra City Council</td>\n",
       "      <td>-37.7996</td>\n",
       "      <td>144.9984</td>\n",
       "      <td>4019.0</td>\n",
       "      <td>2.5</td>\n",
       "      <td>CBD</td>\n",
       "      <td>h</td>\n",
       "      <td>0</td>\n",
       "      <td>2</td>\n",
       "      <td>1.0</td>\n",
       "      <td>1.0</td>\n",
       "      <td>202.0</td>\n",
       "      <td>False</td>\n",
       "      <td>78.659733</td>\n",
       "      <td>False</td>\n",
       "      <td>1970.0</td>\n",
       "      <td>55.0</td>\n",
       "      <td>50-100 anos</td>\n",
       "      <td>1.980198</td>\n",
       "      <td>1.480000e+06</td>\n",
       "      <td>False</td>\n",
       "      <td>S</td>\n",
       "      <td>Biggin</td>\n",
       "      <td>2016-12-03</td>\n",
       "      <td>2016</td>\n",
       "      <td>12</td>\n",
       "      <td>18815.217612</td>\n",
       "      <td>9.842003e+05</td>\n",
       "      <td>8721.041474</td>\n",
       "      <td>26130.894495</td>\n",
       "      <td>-17409.853021</td>\n",
       "      <td>34851.935969</td>\n",
       "      <td>False</td>\n",
       "      <td>False</td>\n",
       "      <td>0.025426</td>\n",
       "      <td>2</td>\n",
       "    </tr>\n",
       "    <tr>\n",
       "      <th>2</th>\n",
       "      <td>Abbotsford</td>\n",
       "      <td>25 Bloomburg St</td>\n",
       "      <td>3067.0</td>\n",
       "      <td>Northern Metropolitan</td>\n",
       "      <td>Yarra City Council</td>\n",
       "      <td>-37.8079</td>\n",
       "      <td>144.9934</td>\n",
       "      <td>4019.0</td>\n",
       "      <td>2.5</td>\n",
       "      <td>CBD</td>\n",
       "      <td>h</td>\n",
       "      <td>0</td>\n",
       "      <td>2</td>\n",
       "      <td>1.0</td>\n",
       "      <td>0.0</td>\n",
       "      <td>156.0</td>\n",
       "      <td>False</td>\n",
       "      <td>79.000000</td>\n",
       "      <td>False</td>\n",
       "      <td>1900.0</td>\n",
       "      <td>125.0</td>\n",
       "      <td>Centenário</td>\n",
       "      <td>1.980198</td>\n",
       "      <td>1.035000e+06</td>\n",
       "      <td>False</td>\n",
       "      <td>S</td>\n",
       "      <td>Biggin</td>\n",
       "      <td>2016-02-04</td>\n",
       "      <td>2016</td>\n",
       "      <td>2</td>\n",
       "      <td>13101.265823</td>\n",
       "      <td>9.582350e+05</td>\n",
       "      <td>8721.041474</td>\n",
       "      <td>26130.894495</td>\n",
       "      <td>-17409.853021</td>\n",
       "      <td>34851.935969</td>\n",
       "      <td>False</td>\n",
       "      <td>False</td>\n",
       "      <td>0.025316</td>\n",
       "      <td>2</td>\n",
       "    </tr>\n",
       "    <tr>\n",
       "      <th>3</th>\n",
       "      <td>Abbotsford</td>\n",
       "      <td>18/659 Victoria St</td>\n",
       "      <td>3067.0</td>\n",
       "      <td>Northern Metropolitan</td>\n",
       "      <td>Yarra City Council</td>\n",
       "      <td>-37.8114</td>\n",
       "      <td>145.0116</td>\n",
       "      <td>4019.0</td>\n",
       "      <td>2.5</td>\n",
       "      <td>CBD</td>\n",
       "      <td>u</td>\n",
       "      <td>1</td>\n",
       "      <td>3</td>\n",
       "      <td>2.0</td>\n",
       "      <td>1.0</td>\n",
       "      <td>0.0</td>\n",
       "      <td>False</td>\n",
       "      <td>87.780000</td>\n",
       "      <td>False</td>\n",
       "      <td>1970.0</td>\n",
       "      <td>55.0</td>\n",
       "      <td>50-100 anos</td>\n",
       "      <td>1.492537</td>\n",
       "      <td>6.753229e+05</td>\n",
       "      <td>True</td>\n",
       "      <td>VB</td>\n",
       "      <td>Rounds</td>\n",
       "      <td>2016-02-04</td>\n",
       "      <td>2016</td>\n",
       "      <td>2</td>\n",
       "      <td>7693.357447</td>\n",
       "      <td>9.662300e+05</td>\n",
       "      <td>8721.041474</td>\n",
       "      <td>26130.894495</td>\n",
       "      <td>-17409.853021</td>\n",
       "      <td>34851.935969</td>\n",
       "      <td>False</td>\n",
       "      <td>False</td>\n",
       "      <td>0.034176</td>\n",
       "      <td>2</td>\n",
       "    </tr>\n",
       "    <tr>\n",
       "      <th>4</th>\n",
       "      <td>Abbotsford</td>\n",
       "      <td>5 Charles St</td>\n",
       "      <td>3067.0</td>\n",
       "      <td>Northern Metropolitan</td>\n",
       "      <td>Yarra City Council</td>\n",
       "      <td>-37.8093</td>\n",
       "      <td>144.9944</td>\n",
       "      <td>4019.0</td>\n",
       "      <td>2.5</td>\n",
       "      <td>CBD</td>\n",
       "      <td>h</td>\n",
       "      <td>0</td>\n",
       "      <td>3</td>\n",
       "      <td>2.0</td>\n",
       "      <td>0.0</td>\n",
       "      <td>134.0</td>\n",
       "      <td>False</td>\n",
       "      <td>150.000000</td>\n",
       "      <td>False</td>\n",
       "      <td>1900.0</td>\n",
       "      <td>125.0</td>\n",
       "      <td>Centenário</td>\n",
       "      <td>1.492537</td>\n",
       "      <td>1.465000e+06</td>\n",
       "      <td>False</td>\n",
       "      <td>SP</td>\n",
       "      <td>Biggin</td>\n",
       "      <td>2017-03-04</td>\n",
       "      <td>2017</td>\n",
       "      <td>3</td>\n",
       "      <td>9766.666667</td>\n",
       "      <td>1.463663e+06</td>\n",
       "      <td>8721.041474</td>\n",
       "      <td>26130.894495</td>\n",
       "      <td>-17409.853021</td>\n",
       "      <td>34851.935969</td>\n",
       "      <td>False</td>\n",
       "      <td>False</td>\n",
       "      <td>0.020000</td>\n",
       "      <td>2</td>\n",
       "    </tr>\n",
       "  </tbody>\n",
       "</table>\n",
       "</div>"
      ],
      "text/plain": [
       "       Suburb             Address  Postcode             Regionname  \\\n",
       "0  Abbotsford       68 Studley St    3067.0  Northern Metropolitan   \n",
       "1  Abbotsford        85 Turner St    3067.0  Northern Metropolitan   \n",
       "2  Abbotsford     25 Bloomburg St    3067.0  Northern Metropolitan   \n",
       "3  Abbotsford  18/659 Victoria St    3067.0  Northern Metropolitan   \n",
       "4  Abbotsford        5 Charles St    3067.0  Northern Metropolitan   \n",
       "\n",
       "          CouncilArea  Lattitude  Longtitude  Propertycount  Distance  \\\n",
       "0  Yarra City Council   -37.8014    144.9958         4019.0       2.5   \n",
       "1  Yarra City Council   -37.7996    144.9984         4019.0       2.5   \n",
       "2  Yarra City Council   -37.8079    144.9934         4019.0       2.5   \n",
       "3  Yarra City Council   -37.8114    145.0116         4019.0       2.5   \n",
       "4  Yarra City Council   -37.8093    144.9944         4019.0       2.5   \n",
       "\n",
       "  DistanceCategory Type  Type_numeric  Rooms  Bathroom  Car  Landsize  \\\n",
       "0              CBD    h             0      2       1.0  1.0     126.0   \n",
       "1              CBD    h             0      2       1.0  1.0     202.0   \n",
       "2              CBD    h             0      2       1.0  0.0     156.0   \n",
       "3              CBD    u             1      3       2.0  1.0       0.0   \n",
       "4              CBD    h             0      3       2.0  0.0     134.0   \n",
       "\n",
       "   Landsize_imputed  BuildingArea  BuildingArea_imputed  YearBuilt  \\\n",
       "0             False     78.659733                 False     1970.0   \n",
       "1             False     78.659733                 False     1970.0   \n",
       "2             False     79.000000                 False     1900.0   \n",
       "3             False     87.780000                 False     1970.0   \n",
       "4             False    150.000000                 False     1900.0   \n",
       "\n",
       "   PropertyAge  AgeCategory  rooms_bath_ratio         Price  Price_imputed  \\\n",
       "0         55.0  50-100 anos          1.980198  5.838762e+05           True   \n",
       "1         55.0  50-100 anos          1.980198  1.480000e+06          False   \n",
       "2        125.0   Centenário          1.980198  1.035000e+06          False   \n",
       "3         55.0  50-100 anos          1.492537  6.753229e+05           True   \n",
       "4        125.0   Centenário          1.492537  1.465000e+06          False   \n",
       "\n",
       "  Method SellerG       Date  Year_Sold  Month_Sold  Price_per_sqm  \\\n",
       "0     SS  Jellis 2016-09-03       2016           9    7422.809934   \n",
       "1      S  Biggin 2016-12-03       2016          12   18815.217612   \n",
       "2      S  Biggin 2016-02-04       2016           2   13101.265823   \n",
       "3     VB  Rounds 2016-02-04       2016           2    7693.357447   \n",
       "4     SP  Biggin 2017-03-04       2017           3    9766.666667   \n",
       "\n",
       "   expected_price  regional_mean_ppsqm  regional_std_ppsqm  price_lower_bound  \\\n",
       "0    9.347520e+05          8721.041474        26130.894495      -17409.853021   \n",
       "1    9.842003e+05          8721.041474        26130.894495      -17409.853021   \n",
       "2    9.582350e+05          8721.041474        26130.894495      -17409.853021   \n",
       "3    9.662300e+05          8721.041474        26130.894495      -17409.853021   \n",
       "4    1.463663e+06          8721.041474        26130.894495      -17409.853021   \n",
       "\n",
       "   price_upper_bound  underpriced  overpriced  Rooms_per_sqm  \\\n",
       "0       34851.935969        False       False       0.025426   \n",
       "1       34851.935969        False       False       0.025426   \n",
       "2       34851.935969        False       False       0.025316   \n",
       "3       34851.935969        False       False       0.034176   \n",
       "4       34851.935969        False       False       0.020000   \n",
       "\n",
       "   Regionname_numeric  \n",
       "0                   2  \n",
       "1                   2  \n",
       "2                   2  \n",
       "3                   2  \n",
       "4                   2  "
      ]
     },
     "execution_count": 49,
     "metadata": {},
     "output_type": "execute_result"
    }
   ],
   "source": [
    "df_organized.head()"
   ]
  },
  {
   "cell_type": "markdown",
   "id": "cc079895-5f01-41d5-badc-7f6b6d06e475",
   "metadata": {},
   "source": [
    "## Salvar o dataframe"
   ]
  },
  {
   "cell_type": "markdown",
   "id": "2584ffb4-91f2-4303-a0f5-97f100494e1c",
   "metadata": {},
   "source": [
    "### Colunas originais organizadas"
   ]
  },
  {
   "cell_type": "code",
   "execution_count": 50,
   "id": "990e9d11-1dd4-4176-8534-53738d729a86",
   "metadata": {},
   "outputs": [
    {
     "name": "stdout",
     "output_type": "stream",
     "text": [
      "✅ Dataset salvo em 'data_processed/' com 34850 registros e 40 colunas.\n"
     ]
    }
   ],
   "source": [
    "# Salvar em CSV e Parquet (para eficiência)\n",
    "df_organized.to_csv(f\"{output_dir}/melbourne_housing_processed.csv\", index=False)\n",
    "\n",
    "print(f\"✅ Dataset salvo em '{output_dir}/' com {len(df_organized)} registros e {len(df_organized.columns)} colunas.\")"
   ]
  },
  {
   "cell_type": "markdown",
   "id": "0b65bbc8-bc7d-4863-98c8-f3991608d604",
   "metadata": {},
   "source": [
    "### Colunas em português organizazdas"
   ]
  },
  {
   "cell_type": "code",
   "execution_count": 51,
   "id": "64fdd9d9-5683-4962-9228-38020acf8636",
   "metadata": {
    "scrolled": true
   },
   "outputs": [
    {
     "name": "stdout",
     "output_type": "stream",
     "text": [
      "✅ Dataset em português salvo com sucesso!\n",
      "\n",
      "Colunas: ['Bairro', 'Endereco', 'Quartos', 'Tipo_Imovel', 'Preco', 'Metodo_Venda', 'Corretor', 'Data_Venda', 'Distancia_CBD', 'CEP', 'Banheiros', 'Vagas_Garagem', 'Area_Terreno', 'Area_Construida', 'Ano_Construcao', 'Area_Administrativa', 'Latitude', 'Longitude', 'Regiao', 'Contagem_Imoveis', 'Tipo_Imovel_Numerico', 'Ano_Venda', 'Mes_Venda', 'Area_Construida_Imputada', 'Area_Terreno_Imputada', 'Preco_por_m2', 'Quartos_por_m2', 'Idade_Imovel', 'Regiao_Numerica', 'Preco_Imputado', 'Preco_Esperado', 'Media_Regional_Preco_m2', 'Desvio_Padrao_Regional_Preco_m2', 'Limite_Inferior_Preco', 'Limite_Superior_Preco', 'Subvalorizado', 'Supervalorizado', 'Proporcao_Quartos_Banheiros', 'Categoria_Idade', 'Categoria_Distancia']\n"
     ]
    }
   ],
   "source": [
    "# Tradução\n",
    "\n",
    "traducao_colunas = {\n",
    "    # Identificação e Localização\n",
    "    'Suburb': 'Bairro',\n",
    "    'Address': 'Endereco',\n",
    "    'Postcode': 'CEP',\n",
    "    'Regionname': 'Regiao',\n",
    "    'CouncilArea': 'Area_Administrativa',\n",
    "    'Lattitude': 'Latitude',\n",
    "    'Longtitude': 'Longitude',\n",
    "    'Propertycount': 'Contagem_Imoveis',\n",
    "    'Distance': 'Distancia_CBD',\n",
    "    'DistanceCategory': 'Categoria_Distancia',\n",
    "    \n",
    "    # Características Físicas\n",
    "    'Type': 'Tipo_Imovel',\n",
    "    'Type_numeric': 'Tipo_Imovel_Numerico',\n",
    "    'Rooms': 'Quartos',\n",
    "    'Bathroom': 'Banheiros',\n",
    "    'Car': 'Vagas_Garagem',\n",
    "    'Landsize': 'Area_Terreno',\n",
    "    'Landsize_imputed': 'Area_Terreno_Imputada',\n",
    "    'BuildingArea': 'Area_Construida',\n",
    "    'BuildingArea_imputed': 'Area_Construida_Imputada',\n",
    "    'YearBuilt': 'Ano_Construcao',\n",
    "    'PropertyAge': 'Idade_Imovel',\n",
    "    'AgeCategory': 'Categoria_Idade',\n",
    "    'rooms_bath_ratio': 'Proporcao_Quartos_Banheiros',\n",
    "    \n",
    "    # Transação e Preço\n",
    "    'Price': 'Preco',\n",
    "    'Price_imputed': 'Preco_Imputado',\n",
    "    'Method': 'Metodo_Venda',\n",
    "    'SellerG': 'Corretor',\n",
    "    'Date': 'Data_Venda',\n",
    "    'Year_Sold': 'Ano_Venda',\n",
    "    'Month_Sold': 'Mes_Venda',\n",
    "    \n",
    "    # Análise e Modelagem\n",
    "    'Price_per_sqm': 'Preco_por_m2',\n",
    "    'expected_price': 'Preco_Esperado',\n",
    "    'regional_mean_ppsqm': 'Media_Regional_Preco_m2',\n",
    "    'regional_std_ppsqm': 'Desvio_Padrao_Regional_Preco_m2',\n",
    "    'price_lower_bound': 'Limite_Inferior_Preco',\n",
    "    'price_upper_bound': 'Limite_Superior_Preco',\n",
    "    'underpriced': 'Subvalorizado',\n",
    "    'overpriced': 'Supervalorizado',\n",
    "    'Rooms_per_sqm': 'Quartos_por_m2',\n",
    "    \n",
    "    # Variáveis Técnicas\n",
    "    'Regionname_numeric': 'Regiao_Numerica'\n",
    "}\n",
    "\n",
    "# Criar cópia do DataFrame com colunas traduzidas\n",
    "df_portugues = df.rename(columns=traducao_colunas)\n",
    "\n",
    "# Salvar versão em português\n",
    "df_portugues.to_csv('./data/melbourne_housing_portugues.csv', index=False, encoding='utf-8-sig')\n",
    "\n",
    "print(\"✅ Dataset em português salvo com sucesso!\\n\")\n",
    "print(f\"Colunas: {list(df_portugues.columns)}\")"
   ]
  },
  {
   "cell_type": "markdown",
   "id": "cf3d77b8-2c35-4e9e-b89f-885234a9a8de",
   "metadata": {},
   "source": [
    "| Inglês (original)      | Português                         | ... | Inglês (original)          | Português                                |\n",
    "|------------------------|-----------------------------------|-----|-------------------------|------------------------------------------|\n",
    "| Suburb                 | Bairro                            | ... | Price_per_sqm              | Preco_por_m2                             |\n",
    "| Address                | Endereco                          | ... | expected_price             | Preco_Esperado                           |\n",
    "| Postcode               | CEP                               | ... | regional_mean_ppsqm        | Media_Regional_Preco_m2                  |\n",
    "| Regionname             | Regiao                            | ... | regional_std_ppsqm         | Desvio_Padrao_Regional_Preco_m2          |\n",
    "| CouncilArea            | Area_Administrativa               | ... | price_lower_bound          | Limite_Inferior_Preco                    |\n",
    "| Lattitude              | Latitude                          | ... | price_upper_bound          | Limite_Superior_Preco                    |\n",
    "| Longtitude             | Longitude                         | ... | underpriced                | Subvalorizado                            |\n",
    "| Propertycount          | Contagem_Imoveis                  | ... | overpriced                 | Supervalorizado                          |\n",
    "| Distance               | Distancia_CBD                     | ... | PropertyAge                | Idade_Imovel\n",
    "| DistanceCategory       | Categoria_Distancia               | ... | Rooms_per_sqm              | Quartos_por_m2                           |\n",
    "| Type                   | Tipo_Imovel                       | ... | Regionname_numeric         | Regiao_Numerica                          |\n",
    "| Type_numeric           | Tipo_Imovel_Numerico              | ... | Method                     | Metodo_Venda                             |\n",
    "| Rooms                  | Quartos                           | ... | SellerG                    | Corretor                                 |\n",
    "| Bathroom               | Banheiros                         | ... | Date                       | Data_Venda                               |\n",
    "| Car                    | Vagas_Garagem                     | ... | Year_Sold                  | Ano_Venda                                |\n",
    "| Landsize               | Area_Terreno                      | ... | Month_Sold                 | Mes_Venda                                |\n",
    "| Landsize_imputed       | Area_Terreno_Imputada             | ... | Price                      | Preco                                    |\n",
    "| BuildingArea           | Area_Construida                   | ... | Price_imputed              | Preco_Imputado                           |\n",
    "| BuildingArea_imputed   | Area_Construida_Imputada          | ... | rooms_bath_ratio           | Proporcao_Quartos_Banheiros              |\n",
    "| YearBuilt              | Ano_Construcao                    | ... |                            |                             |\n",
    "| AgeCategory            | Categoria_Idade                   |     |                            |                                          |\n"
   ]
  }
 ],
 "metadata": {
  "kernelspec": {
   "display_name": "Python 3 (ipykernel)",
   "language": "python",
   "name": "python3"
  },
  "language_info": {
   "codemirror_mode": {
    "name": "ipython",
    "version": 3
   },
   "file_extension": ".py",
   "mimetype": "text/x-python",
   "name": "python",
   "nbconvert_exporter": "python",
   "pygments_lexer": "ipython3",
   "version": "3.11.9"
  }
 },
 "nbformat": 4,
 "nbformat_minor": 5
}
